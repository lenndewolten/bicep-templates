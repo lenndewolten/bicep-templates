{
 "cells": [
  {
   "cell_type": "markdown",
   "metadata": {},
   "source": [
    "# Cosmos Db with container app\n",
    "This Bicep template deploys an Azure Cosmos DB account with customizable settings, including location, database configurations, containers, failover options, and backup policies. It automates the setup of a Cosmos DB account, a SQL database, containers, and role assignments, ensuring flexibility and multi-region support.\n",
    "\n",
    "## Prerequisites\n",
    "- Azure CLI installed\n",
    "- Bicep CLI installed\n",
    "- Python\n",
    "- Jupyter Notebook or JupyterLab installed\n"
   ]
  },
  {
   "cell_type": "markdown",
   "metadata": {},
   "source": [
    "## Setup Environment\n",
    "1. Make an .env file, configure the settings on your needs: "
   ]
  },
  {
   "cell_type": "code",
   "execution_count": 21,
   "metadata": {},
   "outputs": [
    {
     "name": "stdout",
     "output_type": "stream",
     "text": [
      "Overwriting .env\n"
     ]
    }
   ],
   "source": [
    "%%writefile .env\n",
    "SUBSCRIPTION_ID=<subscription_id>\n",
    "RESOURCE_GROUP=<resource_group>\n",
    "LOCATION=northeurope"
   ]
  },
  {
   "cell_type": "markdown",
   "metadata": {},
   "source": [
    "2. Install `python-dotenv` if you haven't already. You can install it using pip:"
   ]
  },
  {
   "cell_type": "code",
   "execution_count": null,
   "metadata": {
    "vscode": {
     "languageId": "shellscript"
    }
   },
   "outputs": [],
   "source": [
    "!pip install python-dotenv"
   ]
  },
  {
   "cell_type": "markdown",
   "metadata": {},
   "source": [
    "3. Load the settings in the environments:"
   ]
  },
  {
   "cell_type": "code",
   "execution_count": 1,
   "metadata": {},
   "outputs": [
    {
     "name": "stdout",
     "output_type": "stream",
     "text": [
      "Subscription ID: 7ba9e6b6-7591-4828-aaa5-c4656cb871c3\n",
      "Resource Group: cosmos-container-app\n",
      "Location: eastus\n"
     ]
    }
   ],
   "source": [
    "from dotenv import load_dotenv\n",
    "import os\n",
    "\n",
    "load_dotenv()\n",
    "\n",
    "subscription_id = os.getenv('SUBSCRIPTION_ID')\n",
    "resource_group = os.getenv('RESOURCE_GROUP')\n",
    "location = os.getenv('LOCATION')\n",
    "\n",
    "deployment_name = \"cosmos-db-deployment\"\n",
    "template_file = \"main.bicep\"\n",
    "parameters_file = \"main.bicepparam\"\n",
    "\n",
    "print(f\"Subscription ID: {subscription_id}\")\n",
    "print(f\"Resource Group: {resource_group}\")\n",
    "print(f\"Location: {location}\")"
   ]
  },
  {
   "cell_type": "markdown",
   "metadata": {},
   "source": [
    "4. Create an Azure Resource group:"
   ]
  },
  {
   "cell_type": "code",
   "execution_count": 2,
   "metadata": {},
   "outputs": [
    {
     "name": "stdout",
     "output_type": "stream",
     "text": [
      "[\n",
      "  {\n",
      "    \"cloudName\": \"AzureCloud\",\n",
      "    \"homeTenantId\": \"71dd74e2-a620-4a8e-9ac4-a19e1ff9ddff\",\n",
      "    \"id\": \"835ebe2e-68d1-4817-925d-1aae42ec01db\",\n",
      "    \"isDefault\": false,\n",
      "    \"managedByTenants\": [\n",
      "      {\n",
      "        \"tenantId\": \"37ac251a-9341-4ae8-b2a2-aa7febf5ce05\"\n",
      "      }\n",
      "    ],\n",
      "    \"name\": \"RBR_DPT_GENERIC_P\",\n",
      "    \"state\": \"Enabled\",\n",
      "    \"tenantId\": \"71dd74e2-a620-4a8e-9ac4-a19e1ff9ddff\",\n",
      "    \"user\": {\n",
      "      \"name\": \"ROB5207@robeco.nl\",\n",
      "      \"type\": \"user\"\n",
      "    }\n",
      "  },\n",
      "  {\n",
      "    \"cloudName\": \"AzureCloud\",\n",
      "    \"homeTenantId\": \"71dd74e2-a620-4a8e-9ac4-a19e1ff9ddff\",\n",
      "    \"id\": \"e84d14c9-e150-4500-93b2-5aa2829e295d\",\n",
      "    \"isDefault\": false,\n",
      "    \"managedByTenants\": [\n",
      "      {\n",
      "        \"tenantId\": \"37ac251a-9341-4ae8-b2a2-aa7febf5ce05\"\n",
      "      }\n",
      "    ],\n",
      "    \"name\": \"RBR_CSS_EQUITY_O\",\n",
      "    \"state\": \"Enabled\",\n",
      "    \"tenantId\": \"71dd74e2-a620-4a8e-9ac4-a19e1ff9ddff\",\n",
      "    \"user\": {\n",
      "      \"name\": \"ROB5207@robeco.nl\",\n",
      "      \"type\": \"user\"\n",
      "    }\n",
      "  },\n",
      "  {\n",
      "    \"cloudName\": \"AzureCloud\",\n",
      "    \"homeTenantId\": \"71dd74e2-a620-4a8e-9ac4-a19e1ff9ddff\",\n",
      "    \"id\": \"69a5dbad-f6d3-4d67-80a7-5a593cf498a0\",\n",
      "    \"isDefault\": false,\n",
      "    \"managedByTenants\": [\n",
      "      {\n",
      "        \"tenantId\": \"37ac251a-9341-4ae8-b2a2-aa7febf5ce05\"\n",
      "      }\n",
      "    ],\n",
      "    \"name\": \"DXC_GENERIC_P\",\n",
      "    \"state\": \"Enabled\",\n",
      "    \"tenantId\": \"71dd74e2-a620-4a8e-9ac4-a19e1ff9ddff\",\n",
      "    \"user\": {\n",
      "      \"name\": \"ROB5207@robeco.nl\",\n",
      "      \"type\": \"user\"\n",
      "    }\n",
      "  },\n",
      "  {\n",
      "    \"cloudName\": \"AzureCloud\",\n",
      "    \"homeTenantId\": \"71dd74e2-a620-4a8e-9ac4-a19e1ff9ddff\",\n",
      "    \"id\": \"62dfb692-6dba-461e-afbc-3ef5bc4c2656\",\n",
      "    \"isDefault\": false,\n",
      "    \"managedByTenants\": [\n",
      "      {\n",
      "        \"tenantId\": \"37ac251a-9341-4ae8-b2a2-aa7febf5ce05\"\n",
      "      }\n",
      "    ],\n",
      "    \"name\": \"RBR_CSS_EQUITY_P\",\n",
      "    \"state\": \"Enabled\",\n",
      "    \"tenantId\": \"71dd74e2-a620-4a8e-9ac4-a19e1ff9ddff\",\n",
      "    \"user\": {\n",
      "      \"name\": \"ROB5207@robeco.nl\",\n",
      "      \"type\": \"user\"\n",
      "    }\n",
      "  },\n",
      "  {\n",
      "    \"cloudName\": \"AzureCloud\",\n",
      "    \"homeTenantId\": \"71dd74e2-a620-4a8e-9ac4-a19e1ff9ddff\",\n",
      "    \"id\": \"1803e6b9-001d-4176-b13a-952f7938a1f5\",\n",
      "    \"isDefault\": false,\n",
      "    \"managedByTenants\": [\n",
      "      {\n",
      "        \"tenantId\": \"37ac251a-9341-4ae8-b2a2-aa7febf5ce05\"\n",
      "      }\n",
      "    ],\n",
      "    \"name\": \"PLP\",\n",
      "    \"state\": \"Enabled\",\n",
      "    \"tenantId\": \"71dd74e2-a620-4a8e-9ac4-a19e1ff9ddff\",\n",
      "    \"user\": {\n",
      "      \"name\": \"ROB5207@robeco.nl\",\n",
      "      \"type\": \"user\"\n",
      "    }\n",
      "  },\n",
      "  {\n",
      "    \"cloudName\": \"AzureCloud\",\n",
      "    \"homeTenantId\": \"71dd74e2-a620-4a8e-9ac4-a19e1ff9ddff\",\n",
      "    \"id\": \"6ca5a38a-8170-4d76-82cb-ca8fe5e30901\",\n",
      "    \"isDefault\": false,\n",
      "    \"managedByTenants\": [\n",
      "      {\n",
      "        \"tenantId\": \"2f4a9838-26b7-47ee-be60-ccc1fdec5953\"\n",
      "      },\n",
      "      {\n",
      "        \"tenantId\": \"37ac251a-9341-4ae8-b2a2-aa7febf5ce05\"\n",
      "      }\n",
      "    ],\n",
      "    \"name\": \"QRP\",\n",
      "    \"state\": \"Enabled\",\n",
      "    \"tenantId\": \"71dd74e2-a620-4a8e-9ac4-a19e1ff9ddff\",\n",
      "    \"user\": {\n",
      "      \"name\": \"ROB5207@robeco.nl\",\n",
      "      \"type\": \"user\"\n",
      "    }\n",
      "  },\n",
      "  {\n",
      "    \"cloudName\": \"AzureCloud\",\n",
      "    \"homeTenantId\": \"71dd74e2-a620-4a8e-9ac4-a19e1ff9ddff\",\n",
      "    \"id\": \"7ba9e6b6-7591-4828-aaa5-c4656cb871c3\",\n",
      "    \"isDefault\": true,\n",
      "    \"managedByTenants\": [],\n",
      "    \"name\": \"Visual Studio Enterprise Subscription\",\n",
      "    \"state\": \"Enabled\",\n",
      "    \"tenantId\": \"71dd74e2-a620-4a8e-9ac4-a19e1ff9ddff\",\n",
      "    \"user\": {\n",
      "      \"name\": \"ROB5207@robeco.nl\",\n",
      "      \"type\": \"user\"\n",
      "    }\n",
      "  }\n",
      "]\n"
     ]
    },
    {
     "name": "stderr",
     "output_type": "stream",
     "text": [
      "WARNING: Please select the account you want to log in with.\n",
      "WARNING: The following tenants don't contain accessible subscriptions. Use 'az login --allow-no-subscriptions' to have tenant level access.\n",
      "WARNING: 72f988bf-86f1-41af-91ab-2d7cd011db47 'Microsoft'\n"
     ]
    },
    {
     "name": "stdout",
     "output_type": "stream",
     "text": [
      "{\n",
      "  \"id\": \"/subscriptions/7ba9e6b6-7591-4828-aaa5-c4656cb871c3/resourceGroups/cosmos-container-app\",\n",
      "  \"location\": \"eastus\",\n",
      "  \"managedBy\": null,\n",
      "  \"name\": \"cosmos-container-app\",\n",
      "  \"properties\": {\n",
      "    \"provisioningState\": \"Succeeded\"\n",
      "  },\n",
      "  \"tags\": null,\n",
      "  \"type\": \"Microsoft.Resources/resourceGroups\"\n",
      "}\n"
     ]
    }
   ],
   "source": [
    "!az login\n",
    "!az account set --subscription  {subscription_id}\n",
    "!az group create --name {resource_group} --location {location}"
   ]
  },
  {
   "cell_type": "markdown",
   "metadata": {},
   "source": [
    "## Deploy template\n",
    "1. Set the bicep parameters, adjust the settings when needed:"
   ]
  },
  {
   "cell_type": "code",
   "execution_count": 3,
   "metadata": {},
   "outputs": [
    {
     "name": "stdout",
     "output_type": "stream",
     "text": [
      "Overwriting main.bicepparam\n"
     ]
    }
   ],
   "source": [
    "%%writefile {parameters_file}\n",
    "\n",
    "using 'main.bicep'\n",
    "\n",
    "var databaseName = 'testdb'\n",
    "\n",
    "param cosmosDbConfig = {\n",
    "  accountName: take('csmdb${uniqueString(databaseName)}', 15)\n",
    "  database: {\n",
    "    name: databaseName\n",
    "  }\n",
    "  containers: [\n",
    "    {\n",
    "      name: 'movies'\n",
    "      partitionKey: {\n",
    "        kind: 'Hash'\n",
    "        paths: [\n",
    "          '/id'\n",
    "        ]\n",
    "      }\n",
    "    }\n",
    "    {\n",
    "      name: 'movies_leases'\n",
    "      partitionKey: {\n",
    "        kind: 'Hash'\n",
    "        paths: [\n",
    "          '/id'\n",
    "        ]\n",
    "      }\n",
    "    }\n",
    "    {\n",
    "      name: 'movies_by_genre'\n",
    "      partitionKey: {\n",
    "        kind: 'Hash'\n",
    "        paths: [\n",
    "          '/genre'\n",
    "        ]\n",
    "      }\n",
    "    }\n",
    "  ]\n",
    "}\n",
    "\n",
    "param containerAppConfig = {\n",
    "  environment: {\n",
    "    name: 'my-container-app-env'\n",
    "    resourceGroup: 'container-apps'\n",
    "  }\n",
    "  name: 'my-cosmos-container-app'\n",
    "  ingress: {\n",
    "    allowInsecure: false\n",
    "    clientCertificateMode: 'ignore'\n",
    "    external: true\n",
    "    targetPort: 80\n",
    "    transport: 'auto'\n",
    "    traffic: [\n",
    "      {\n",
    "        latestRevision: true\n",
    "        weight: 100\n",
    "      }\n",
    "    ]\n",
    "  }\n",
    "  containers: [\n",
    "    {\n",
    "      image: 'mcr.microsoft.com/azuredocs/containerapps-helloworld:latest'\n",
    "      name: 'hello-world-container'\n",
    "      resources: {\n",
    "        cpu: '0.25'\n",
    "        memory: '0.5Gi'\n",
    "      }\n",
    "      env: [\n",
    "        {\n",
    "          name: 'TEST_VAR1'\n",
    "          value: 'hello world'\n",
    "        }\n",
    "      ]\n",
    "    }\n",
    "  ]\n",
    "  scale: {\n",
    "    minReplicas: 1\n",
    "    maxReplicas: 2\n",
    "    rules: [\n",
    "      {\n",
    "        name: 'http-requests'\n",
    "        http: {\n",
    "          metadata: {\n",
    "            concurrentRequests: '10'\n",
    "          }\n",
    "        }\n",
    "      }\n",
    "    ]\n",
    "  }\n",
    "}"
   ]
  },
  {
   "cell_type": "markdown",
   "metadata": {},
   "source": [
    "2. Deploy the template:"
   ]
  },
  {
   "cell_type": "code",
   "execution_count": 5,
   "metadata": {},
   "outputs": [
    {
     "name": "stderr",
     "output_type": "stream",
     "text": [
      "WARNING: A new Bicep release is available: v0.29.47. Upgrade now by running \"az bicep upgrade\".\n",
      "ERROR: {\"status\":\"Failed\",\"error\":{\"code\":\"DeploymentFailed\",\"target\":\"/subscriptions/7ba9e6b6-7591-4828-aaa5-c4656cb871c3/resourceGroups/cosmos-container-app/providers/Microsoft.Resources/deployments/cosmos-db-deployment\",\"message\":\"At least one resource deployment operation failed. Please list deployment operations for details. Please see https://aka.ms/arm-deployment-operations for usage details.\",\"details\":[{\"code\":\"ResourceDeploymentFailure\",\"target\":\"/subscriptions/7ba9e6b6-7591-4828-aaa5-c4656cb871c3/resourceGroups/cosmos-container-app/providers/Microsoft.Resources/deployments/cosmos-deployment\",\"message\":\"The resource write operation failed to complete successfully, because it reached terminal provisioning state 'Failed'.\",\"details\":[{\"code\":\"DeploymentFailed\",\"target\":\"/subscriptions/7ba9e6b6-7591-4828-aaa5-c4656cb871c3/resourceGroups/cosmos-container-app/providers/Microsoft.Resources/deployments/cosmos-deployment\",\"message\":\"At least one resource deployment operation failed. Please list deployment operations for details. Please see https://aka.ms/arm-deployment-operations for usage details.\",\"details\":[{\"code\":\"ResourceDeploymentFailure\",\"target\":\"/subscriptions/7ba9e6b6-7591-4828-aaa5-c4656cb871c3/resourceGroups/cosmos-container-app/providers/Microsoft.DocumentDB/databaseAccounts/csmdb3calqrhvbv\",\"message\":\"The resource write operation failed to complete successfully, because it reached terminal provisioning state 'Failed'.\",\"details\":[{\"code\":\"ServiceUnavailable\",\"message\":\"Database account creation failed. Operation Id: a5680a3c-1e92-4553-a6b7-f02de30324a3, Error : Message: {\\\"code\\\":\\\"ServiceUnavailable\\\",\\\"message\\\":\\\"Sorry, we are currently experiencing high demand in East US region, and cannot fulfill your request at this time Fri, 09 Aug 2024 07:53:08 GMT. To request region access for your subscription, please follow this link https://aka.ms/cosmosdbquota for more details on how to create a region access request.\\\\r\\\\nActivityId: a51612bd-cc20-45bb-b03b-5cac64792cb8, Microsoft.Azure.Documents.Common/2.14.0\\\"}, Request URI: /serviceReservation, RequestStats: , SDK: Microsoft.Azure.Documents.Common/2.14.0, Microsoft.Azure.Documents.Common/2.14.0, Microsoft.Azure.Documents.Common/2.14.0, Microsoft.Azure.Documents.Common/2.14.0, Microsoft.Azure.Documents.Common/2.14.0, Microsoft.Azure.Documents.Common/2.14.0, Microsoft.Azure.Documents.Common/2.14.0, Microsoft.Azure.Documents.Common/2.14.0, Microsoft.Azure.Documents.Common/2.14.0, Microsoft.Azure.Documents.Common/2.14.0\"}]}]}]}]}}\n"
     ]
    }
   ],
   "source": [
    "!az deployment group create --resource-group {resource_group} --template-file {template_file}  --parameters {parameters_file} --name {deployment_name} \n"
   ]
  }
 ],
 "metadata": {
  "kernelspec": {
   "display_name": "Python 3",
   "language": "python",
   "name": "python3"
  },
  "language_info": {
   "codemirror_mode": {
    "name": "ipython",
    "version": 3
   },
   "file_extension": ".py",
   "mimetype": "text/x-python",
   "name": "python",
   "nbconvert_exporter": "python",
   "pygments_lexer": "ipython3",
   "version": "3.11.9"
  }
 },
 "nbformat": 4,
 "nbformat_minor": 2
}
