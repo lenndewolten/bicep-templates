{
    "cells": [
        {
            "cell_type": "markdown",
            "metadata": {},
            "source": [
                "# Container Apps - File share Deployment\n",
                "This template sets up a containerized application environment with necessary Azure resources, including a file share linked to the container's volumn mount, Azure Container Registry access, container deployment, storage account, and specified role assignments. Please ensure an Container Environment is created before proceeding with the deployment, see [/scenario-container-app-environment.ipynb](../container-app-environment/scenario-container-app-environment.ipynb).\n",
                "\n",
                "## Prerequisites\n",
                "- Azure CLI installed\n",
                "- Bicep CLI installed\n",
                "- Python\n",
                "- Jupyter Notebook or JupyterLab installed\n",
                "- Container app environment ([See scenario-container-app-environment.ipynb](../container-app-environment/scenario-container-app-environment.ipynb))\n"
            ]
        },
        {
            "cell_type": "markdown",
            "metadata": {},
            "source": [
                "## Setup Environment\n",
                "1. Make an .env file, configure the settings on your needs: "
            ]
        },
        {
            "cell_type": "code",
            "execution_count": null,
            "metadata": {},
            "outputs": [],
            "source": [
                "%%writefile .env\n",
                "SUBSCRIPTION_ID=<subscription_id>\n",
                "RESOURCE_GROUP=<resource_group>\n",
                "LOCATION=northeurope\n",
                "\n",
                "TEMPLATE_FILE = \"main.bicep\"\n",
                "PARAMETERS_FILE = \"main.bicepparam\"\n",
                "MANAGED_ENVIRONMENT_NAME=my-container-app-env\n",
                "MANAGED_ENVIRONMENT_RESOURCE_GROUP=container-apps\n",
                "REGISTRY_NAME=lenndewoltentestacr\n",
                "REGISTRY_RESOURCE_GROUP=container-apps"
            ]
        },
        {
            "cell_type": "markdown",
            "metadata": {},
            "source": [
                "2. Install `python-dotenv` if you haven't already. You can install it using pip:"
            ]
        },
        {
            "cell_type": "code",
            "execution_count": null,
            "metadata": {
                "vscode": {
                    "languageId": "shellscript"
                }
            },
            "outputs": [],
            "source": [
                "!pip install python-dotenv"
            ]
        },
        {
            "cell_type": "markdown",
            "metadata": {},
            "source": [
                "3. Load the settings in the environments:"
            ]
        },
        {
            "cell_type": "code",
            "execution_count": 1,
            "metadata": {},
            "outputs": [
                {
                    "name": "stdout",
                    "output_type": "stream",
                    "text": [
                        "Subscription ID: 7ba9e6b6-7591-4828-aaa5-c4656cb871c3\n",
                        "Resource Group: functionapp-on-container-apps\n",
                        "Location: northeurope\n",
                        "Managed Environment Name: my-container-app-env\n",
                        "Managed Environment Resource Group: container-apps\n",
                        "Registry Name: None\n",
                        "Registry Resource Group: None\n"
                    ]
                }
            ],
            "source": [
                "from dotenv import load_dotenv\n",
                "import os\n",
                "\n",
                "load_dotenv()\n",
                "\n",
                "subscription_id = os.getenv('SUBSCRIPTION_ID')\n",
                "resource_group = os.getenv('RESOURCE_GROUP')\n",
                "location = os.getenv('LOCATION')\n",
                "\n",
                "deployment_name = \"container-apps-deployment\"\n",
                "template_file = os.getenv('TEMPLATE_FILE')\n",
                "parameters_file = os.getenv('PARAMETERS_FILE')\n",
                "\n",
                "managed_environment_name = os.getenv('MANAGED_ENVIRONMENT_NAME')\n",
                "managed_environment_resource_group = os.getenv('MANAGED_ENVIRONMENT_RESOURCE_GROUP')\n",
                "registry_name = os.getenv('REGISTRY_NAME')\n",
                "registry_resource_group = os.getenv('REGISTRY_RESOURCE_GROUP')\n",
                "\n",
                "print(f\"Subscription ID: {subscription_id}\")\n",
                "print(f\"Resource Group: {resource_group}\")\n",
                "print(f\"Location: {location}\")\n",
                "\n",
                "print(f\"Managed Environment Name: {managed_environment_name}\")\n",
                "print(f\"Managed Environment Resource Group: {managed_environment_resource_group}\")\n",
                "print(f\"Registry Name: {registry_name}\")\n",
                "print(f\"Registry Resource Group: {registry_resource_group}\")"
            ]
        },
        {
            "cell_type": "markdown",
            "metadata": {},
            "source": [
                "4. Login and set default Azure subscription"
            ]
        },
        {
            "cell_type": "code",
            "execution_count": 2,
            "metadata": {},
            "outputs": [
                {
                    "name": "stdout",
                    "output_type": "stream",
                    "text": [
                        "[\n",
                        "  {\n",
                        "    \"cloudName\": \"AzureCloud\",\n",
                        "    \"homeTenantId\": \"71dd74e2-a620-4a8e-9ac4-a19e1ff9ddff\",\n",
                        "    \"id\": \"835ebe2e-68d1-4817-925d-1aae42ec01db\",\n",
                        "    \"isDefault\": false,\n",
                        "    \"managedByTenants\": [\n",
                        "      {\n",
                        "        \"tenantId\": \"37ac251a-9341-4ae8-b2a2-aa7febf5ce05\"\n",
                        "      }\n",
                        "    ],\n",
                        "    \"name\": \"RBR_DPT_GENERIC_P\",\n",
                        "    \"state\": \"Enabled\",\n",
                        "    \"tenantId\": \"71dd74e2-a620-4a8e-9ac4-a19e1ff9ddff\",\n",
                        "    \"user\": {\n",
                        "      \"name\": \"ROB5207@robeco.nl\",\n",
                        "      \"type\": \"user\"\n",
                        "    }\n",
                        "  },\n",
                        "  {\n",
                        "    \"cloudName\": \"AzureCloud\",\n",
                        "    \"homeTenantId\": \"71dd74e2-a620-4a8e-9ac4-a19e1ff9ddff\",\n",
                        "    \"id\": \"e84d14c9-e150-4500-93b2-5aa2829e295d\",\n",
                        "    \"isDefault\": false,\n",
                        "    \"managedByTenants\": [\n",
                        "      {\n",
                        "        \"tenantId\": \"37ac251a-9341-4ae8-b2a2-aa7febf5ce05\"\n",
                        "      }\n",
                        "    ],\n",
                        "    \"name\": \"RBR_CSS_EQUITY_O\",\n",
                        "    \"state\": \"Enabled\",\n",
                        "    \"tenantId\": \"71dd74e2-a620-4a8e-9ac4-a19e1ff9ddff\",\n",
                        "    \"user\": {\n",
                        "      \"name\": \"ROB5207@robeco.nl\",\n",
                        "      \"type\": \"user\"\n",
                        "    }\n",
                        "  },\n",
                        "  {\n",
                        "    \"cloudName\": \"AzureCloud\",\n",
                        "    \"homeTenantId\": \"71dd74e2-a620-4a8e-9ac4-a19e1ff9ddff\",\n",
                        "    \"id\": \"69a5dbad-f6d3-4d67-80a7-5a593cf498a0\",\n",
                        "    \"isDefault\": false,\n",
                        "    \"managedByTenants\": [\n",
                        "      {\n",
                        "        \"tenantId\": \"37ac251a-9341-4ae8-b2a2-aa7febf5ce05\"\n",
                        "      }\n",
                        "    ],\n",
                        "    \"name\": \"DXC_GENERIC_P\",\n",
                        "    \"state\": \"Enabled\",\n",
                        "    \"tenantId\": \"71dd74e2-a620-4a8e-9ac4-a19e1ff9ddff\",\n",
                        "    \"user\": {\n",
                        "      \"name\": \"ROB5207@robeco.nl\",\n",
                        "      \"type\": \"user\"\n",
                        "    }\n",
                        "  },\n",
                        "  {\n",
                        "    \"cloudName\": \"AzureCloud\",\n",
                        "    \"homeTenantId\": \"71dd74e2-a620-4a8e-9ac4-a19e1ff9ddff\",\n",
                        "    \"id\": \"62dfb692-6dba-461e-afbc-3ef5bc4c2656\",\n",
                        "    \"isDefault\": false,\n",
                        "    \"managedByTenants\": [\n",
                        "      {\n",
                        "        \"tenantId\": \"37ac251a-9341-4ae8-b2a2-aa7febf5ce05\"\n",
                        "      }\n",
                        "    ],\n",
                        "    \"name\": \"RBR_CSS_EQUITY_P\",\n",
                        "    \"state\": \"Enabled\",\n",
                        "    \"tenantId\": \"71dd74e2-a620-4a8e-9ac4-a19e1ff9ddff\",\n",
                        "    \"user\": {\n",
                        "      \"name\": \"ROB5207@robeco.nl\",\n",
                        "      \"type\": \"user\"\n",
                        "    }\n",
                        "  },\n",
                        "  {\n",
                        "    \"cloudName\": \"AzureCloud\",\n",
                        "    \"homeTenantId\": \"71dd74e2-a620-4a8e-9ac4-a19e1ff9ddff\",\n",
                        "    \"id\": \"1803e6b9-001d-4176-b13a-952f7938a1f5\",\n",
                        "    \"isDefault\": false,\n",
                        "    \"managedByTenants\": [\n",
                        "      {\n",
                        "        \"tenantId\": \"37ac251a-9341-4ae8-b2a2-aa7febf5ce05\"\n",
                        "      }\n",
                        "    ],\n",
                        "    \"name\": \"PLP\",\n",
                        "    \"state\": \"Enabled\",\n",
                        "    \"tenantId\": \"71dd74e2-a620-4a8e-9ac4-a19e1ff9ddff\",\n",
                        "    \"user\": {\n",
                        "      \"name\": \"ROB5207@robeco.nl\",\n",
                        "      \"type\": \"user\"\n",
                        "    }\n",
                        "  },\n",
                        "  {\n",
                        "    \"cloudName\": \"AzureCloud\",\n",
                        "    \"homeTenantId\": \"71dd74e2-a620-4a8e-9ac4-a19e1ff9ddff\",\n",
                        "    \"id\": \"6ca5a38a-8170-4d76-82cb-ca8fe5e30901\",\n",
                        "    \"isDefault\": false,\n",
                        "    \"managedByTenants\": [\n",
                        "      {\n",
                        "        \"tenantId\": \"2f4a9838-26b7-47ee-be60-ccc1fdec5953\"\n",
                        "      },\n",
                        "      {\n",
                        "        \"tenantId\": \"37ac251a-9341-4ae8-b2a2-aa7febf5ce05\"\n",
                        "      }\n",
                        "    ],\n",
                        "    \"name\": \"QRP\",\n",
                        "    \"state\": \"Enabled\",\n",
                        "    \"tenantId\": \"71dd74e2-a620-4a8e-9ac4-a19e1ff9ddff\",\n",
                        "    \"user\": {\n",
                        "      \"name\": \"ROB5207@robeco.nl\",\n",
                        "      \"type\": \"user\"\n",
                        "    }\n",
                        "  },\n",
                        "  {\n",
                        "    \"cloudName\": \"AzureCloud\",\n",
                        "    \"homeTenantId\": \"71dd74e2-a620-4a8e-9ac4-a19e1ff9ddff\",\n",
                        "    \"id\": \"7ba9e6b6-7591-4828-aaa5-c4656cb871c3\",\n",
                        "    \"isDefault\": true,\n",
                        "    \"managedByTenants\": [],\n",
                        "    \"name\": \"Visual Studio Enterprise Subscription\",\n",
                        "    \"state\": \"Enabled\",\n",
                        "    \"tenantId\": \"71dd74e2-a620-4a8e-9ac4-a19e1ff9ddff\",\n",
                        "    \"user\": {\n",
                        "      \"name\": \"ROB5207@robeco.nl\",\n",
                        "      \"type\": \"user\"\n",
                        "    }\n",
                        "  }\n",
                        "]\n"
                    ]
                },
                {
                    "name": "stderr",
                    "output_type": "stream",
                    "text": [
                        "WARNING: Please select the account you want to log in with.\n",
                        "WARNING: The following tenants don't contain accessible subscriptions. Use 'az login --allow-no-subscriptions' to have tenant level access.\n",
                        "WARNING: 72f988bf-86f1-41af-91ab-2d7cd011db47 'Microsoft'\n"
                    ]
                }
            ],
            "source": [
                "!az login\n",
                "!az account set --subscription  {subscription_id}"
            ]
        },
        {
            "cell_type": "markdown",
            "metadata": {},
            "source": [
                "5. Create an Azure Resource group:"
            ]
        },
        {
            "cell_type": "code",
            "execution_count": 3,
            "metadata": {},
            "outputs": [
                {
                    "name": "stdout",
                    "output_type": "stream",
                    "text": [
                        "{\n",
                        "  \"id\": \"/subscriptions/7ba9e6b6-7591-4828-aaa5-c4656cb871c3/resourceGroups/functionapp-on-container-apps\",\n",
                        "  \"location\": \"northeurope\",\n",
                        "  \"managedBy\": null,\n",
                        "  \"name\": \"functionapp-on-container-apps\",\n",
                        "  \"properties\": {\n",
                        "    \"provisioningState\": \"Succeeded\"\n",
                        "  },\n",
                        "  \"tags\": null,\n",
                        "  \"type\": \"Microsoft.Resources/resourceGroups\"\n",
                        "}\n"
                    ]
                }
            ],
            "source": [
                "!az group create --name {resource_group} --location {location}"
            ]
        },
        {
            "cell_type": "markdown",
            "metadata": {},
            "source": [
                "## Deploy template\n",
                "1. Set the bicep parameters, adjust the settings when needed:"
            ]
        },
        {
            "cell_type": "code",
            "execution_count": 4,
            "metadata": {},
            "outputs": [
                {
                    "name": "stdout",
                    "output_type": "stream",
                    "text": [
                        "Overwriting main.bicepparam\n"
                    ]
                }
            ],
            "source": [
                "%%writefile {parameters_file}\n",
                "\n",
                "using '#{template_file}#'\n",
                "\n",
                "param containerAppEnvName = '#{managed_environment_name}#'\n",
                "param containerAppEnvRG = '#{managed_environment_resource_group}#'\n",
                "\n",
                "param resourceNamePrefix = uniqueString('lenny')"
            ]
        },
        {
            "cell_type": "markdown",
            "metadata": {},
            "source": [
                "2. Seed container registry with the docker image"
            ]
        },
        {
            "cell_type": "code",
            "execution_count": null,
            "metadata": {},
            "outputs": [],
            "source": [
                "source = 'mcr.microsoft.com/azuredocs/containerapps-helloworld:latest'\n",
                "target = 'containerapps-helloworld:latest'\n",
                "\n",
                "!az acr import --name {registry_name} --source {source} --image {target} --force"
            ]
        },
        {
            "cell_type": "markdown",
            "metadata": {},
            "source": [
                "3. Replace tokens in `.bicepparam` file"
            ]
        },
        {
            "cell_type": "code",
            "execution_count": 5,
            "metadata": {},
            "outputs": [
                {
                    "name": "stdout",
                    "output_type": "stream",
                    "text": [
                        "Replacing key: \"template_file\", with value: \"main.bicep\"\n",
                        "Replacing key: \"managed_environment_name\", with value: \"my-container-app-env\"\n",
                        "Replacing key: \"managed_environment_resource_group\", with value: \"container-apps\"\n"
                    ]
                }
            ],
            "source": [
                "%run \"../../../utils/placeholder_replacer.py\"\n",
                "\n",
                "path = f'{parameters_file}'\n",
                "replace_placeholders_in_file(path)"
            ]
        },
        {
            "cell_type": "markdown",
            "metadata": {},
            "source": [
                "4. Deploy the template:"
            ]
        },
        {
            "cell_type": "code",
            "execution_count": 6,
            "metadata": {},
            "outputs": [
                {
                    "name": "stdout",
                    "output_type": "stream",
                    "text": [
                        "{\n",
                        "  \"id\": \"/subscriptions/7ba9e6b6-7591-4828-aaa5-c4656cb871c3/resourceGroups/functionapp-on-container-apps/providers/Microsoft.Resources/deployments/container-apps-deployment\",\n",
                        "  \"location\": null,\n",
                        "  \"name\": \"container-apps-deployment\",\n",
                        "  \"properties\": {\n",
                        "    \"correlationId\": \"1946595a-cda8-4750-bc6f-92c50acd7243\",\n",
                        "    \"debugSetting\": null,\n",
                        "    \"dependencies\": [\n",
                        "      {\n",
                        "        \"dependsOn\": [\n",
                        "          {\n",
                        "            \"id\": \"/subscriptions/7ba9e6b6-7591-4828-aaa5-c4656cb871c3/resourceGroups/functionapp-on-container-apps/providers/Microsoft.OperationalInsights/workspaces/v32kvrsn2pszm-la\",\n",
                        "            \"resourceGroup\": \"functionapp-on-container-apps\",\n",
                        "            \"resourceName\": \"v32kvrsn2pszm-la\",\n",
                        "            \"resourceType\": \"Microsoft.OperationalInsights/workspaces\"\n",
                        "          }\n",
                        "        ],\n",
                        "        \"id\": \"/subscriptions/7ba9e6b6-7591-4828-aaa5-c4656cb871c3/resourceGroups/functionapp-on-container-apps/providers/Microsoft.Insights/components/v32kvrsn2pszm-ai\",\n",
                        "        \"resourceGroup\": \"functionapp-on-container-apps\",\n",
                        "        \"resourceName\": \"v32kvrsn2pszm-ai\",\n",
                        "        \"resourceType\": \"Microsoft.Insights/components\"\n",
                        "      },\n",
                        "      {\n",
                        "        \"dependsOn\": [\n",
                        "          {\n",
                        "            \"id\": \"/subscriptions/7ba9e6b6-7591-4828-aaa5-c4656cb871c3/resourceGroups/functionapp-on-container-apps/providers/Microsoft.Insights/components/v32kvrsn2pszm-ai\",\n",
                        "            \"resourceGroup\": \"functionapp-on-container-apps\",\n",
                        "            \"resourceName\": \"v32kvrsn2pszm-ai\",\n",
                        "            \"resourceType\": \"Microsoft.Insights/components\"\n",
                        "          },\n",
                        "          {\n",
                        "            \"id\": \"/subscriptions/7ba9e6b6-7591-4828-aaa5-c4656cb871c3/resourceGroups/functionapp-on-container-apps/providers/Microsoft.Resources/deployments/storageaccount-lenny\",\n",
                        "            \"resourceGroup\": \"functionapp-on-container-apps\",\n",
                        "            \"resourceName\": \"storageaccount-lenny\",\n",
                        "            \"resourceType\": \"Microsoft.Resources/deployments\"\n",
                        "          },\n",
                        "          {\n",
                        "            \"apiVersion\": \"2022-09-01\",\n",
                        "            \"id\": \"/subscriptions/7ba9e6b6-7591-4828-aaa5-c4656cb871c3/resourceGroups/functionapp-on-container-apps/providers/Microsoft.Resources/deployments/storageaccount-lenny\",\n",
                        "            \"resourceGroup\": \"functionapp-on-container-apps\",\n",
                        "            \"resourceName\": \"storageaccount-lenny\",\n",
                        "            \"resourceType\": \"Microsoft.Resources/deployments\"\n",
                        "          }\n",
                        "        ],\n",
                        "        \"id\": \"/subscriptions/7ba9e6b6-7591-4828-aaa5-c4656cb871c3/resourceGroups/functionapp-on-container-apps/providers/Microsoft.Resources/deployments/function-app\",\n",
                        "        \"resourceGroup\": \"functionapp-on-container-apps\",\n",
                        "        \"resourceName\": \"function-app\",\n",
                        "        \"resourceType\": \"Microsoft.Resources/deployments\"\n",
                        "      }\n",
                        "    ],\n",
                        "    \"duration\": \"PT1M7.1561311S\",\n",
                        "    \"error\": null,\n",
                        "    \"mode\": \"Incremental\",\n",
                        "    \"onErrorDeployment\": null,\n",
                        "    \"outputResources\": [\n",
                        "      {\n",
                        "        \"id\": \"/subscriptions/7ba9e6b6-7591-4828-aaa5-c4656cb871c3/resourceGroups/functionapp-on-container-apps/providers/Microsoft.Insights/components/v32kvrsn2pszm-ai\",\n",
                        "        \"resourceGroup\": \"functionapp-on-container-apps\"\n",
                        "      },\n",
                        "      {\n",
                        "        \"id\": \"/subscriptions/7ba9e6b6-7591-4828-aaa5-c4656cb871c3/resourceGroups/functionapp-on-container-apps/providers/Microsoft.OperationalInsights/workspaces/v32kvrsn2pszm-la\",\n",
                        "        \"resourceGroup\": \"functionapp-on-container-apps\"\n",
                        "      },\n",
                        "      {\n",
                        "        \"id\": \"/subscriptions/7ba9e6b6-7591-4828-aaa5-c4656cb871c3/resourceGroups/functionapp-on-container-apps/providers/Microsoft.Storage/storageAccounts/v32kvrsn2pszmstrg\",\n",
                        "        \"resourceGroup\": \"functionapp-on-container-apps\"\n",
                        "      },\n",
                        "      {\n",
                        "        \"id\": \"/subscriptions/7ba9e6b6-7591-4828-aaa5-c4656cb871c3/resourceGroups/functionapp-on-container-apps/providers/Microsoft.Storage/storageAccounts/v32kvrsn2pszmstrg/fileServices/default\",\n",
                        "        \"resourceGroup\": \"functionapp-on-container-apps\"\n",
                        "      },\n",
                        "      {\n",
                        "        \"id\": \"/subscriptions/7ba9e6b6-7591-4828-aaa5-c4656cb871c3/resourceGroups/functionapp-on-container-apps/providers/Microsoft.Web/sites/v32kvrsn2pszm-funcapp\",\n",
                        "        \"resourceGroup\": \"functionapp-on-container-apps\"\n",
                        "      }\n",
                        "    ],\n",
                        "    \"outputs\": null,\n",
                        "    \"parameters\": {\n",
                        "      \"containerAppEnvName\": {\n",
                        "        \"type\": \"String\",\n",
                        "        \"value\": \"my-container-app-env\"\n",
                        "      },\n",
                        "      \"containerAppEnvRG\": {\n",
                        "        \"type\": \"String\",\n",
                        "        \"value\": \"container-apps\"\n",
                        "      },\n",
                        "      \"location\": {\n",
                        "        \"type\": \"String\",\n",
                        "        \"value\": \"northeurope\"\n",
                        "      },\n",
                        "      \"resourceNamePrefix\": {\n",
                        "        \"type\": \"String\",\n",
                        "        \"value\": \"lenny\"\n",
                        "      }\n",
                        "    },\n",
                        "    \"parametersLink\": null,\n",
                        "    \"providers\": [\n",
                        "      {\n",
                        "        \"id\": null,\n",
                        "        \"namespace\": \"Microsoft.OperationalInsights\",\n",
                        "        \"providerAuthorizationConsentState\": null,\n",
                        "        \"registrationPolicy\": null,\n",
                        "        \"registrationState\": null,\n",
                        "        \"resourceTypes\": [\n",
                        "          {\n",
                        "            \"aliases\": null,\n",
                        "            \"apiProfiles\": null,\n",
                        "            \"apiVersions\": null,\n",
                        "            \"capabilities\": null,\n",
                        "            \"defaultApiVersion\": null,\n",
                        "            \"locationMappings\": null,\n",
                        "            \"locations\": [\n",
                        "              \"northeurope\"\n",
                        "            ],\n",
                        "            \"properties\": null,\n",
                        "            \"resourceType\": \"workspaces\",\n",
                        "            \"zoneMappings\": null\n",
                        "          }\n",
                        "        ]\n",
                        "      },\n",
                        "      {\n",
                        "        \"id\": null,\n",
                        "        \"namespace\": \"Microsoft.Insights\",\n",
                        "        \"providerAuthorizationConsentState\": null,\n",
                        "        \"registrationPolicy\": null,\n",
                        "        \"registrationState\": null,\n",
                        "        \"resourceTypes\": [\n",
                        "          {\n",
                        "            \"aliases\": null,\n",
                        "            \"apiProfiles\": null,\n",
                        "            \"apiVersions\": null,\n",
                        "            \"capabilities\": null,\n",
                        "            \"defaultApiVersion\": null,\n",
                        "            \"locationMappings\": null,\n",
                        "            \"locations\": [\n",
                        "              \"northeurope\"\n",
                        "            ],\n",
                        "            \"properties\": null,\n",
                        "            \"resourceType\": \"components\",\n",
                        "            \"zoneMappings\": null\n",
                        "          }\n",
                        "        ]\n",
                        "      },\n",
                        "      {\n",
                        "        \"id\": null,\n",
                        "        \"namespace\": \"Microsoft.Resources\",\n",
                        "        \"providerAuthorizationConsentState\": null,\n",
                        "        \"registrationPolicy\": null,\n",
                        "        \"registrationState\": null,\n",
                        "        \"resourceTypes\": [\n",
                        "          {\n",
                        "            \"aliases\": null,\n",
                        "            \"apiProfiles\": null,\n",
                        "            \"apiVersions\": null,\n",
                        "            \"capabilities\": null,\n",
                        "            \"defaultApiVersion\": null,\n",
                        "            \"locationMappings\": null,\n",
                        "            \"locations\": [\n",
                        "              null\n",
                        "            ],\n",
                        "            \"properties\": null,\n",
                        "            \"resourceType\": \"deployments\",\n",
                        "            \"zoneMappings\": null\n",
                        "          }\n",
                        "        ]\n",
                        "      }\n",
                        "    ],\n",
                        "    \"provisioningState\": \"Succeeded\",\n",
                        "    \"templateHash\": \"11414935507757631894\",\n",
                        "    \"templateLink\": null,\n",
                        "    \"timestamp\": \"2024-08-12T13:49:45.711866+00:00\",\n",
                        "    \"validatedResources\": null\n",
                        "  },\n",
                        "  \"resourceGroup\": \"functionapp-on-container-apps\",\n",
                        "  \"tags\": null,\n",
                        "  \"type\": \"Microsoft.Resources/deployments\"\n",
                        "}\n"
                    ]
                },
                {
                    "name": "stderr",
                    "output_type": "stream",
                    "text": [
                        "WARNING: A new Bicep release is available: v0.29.47. Upgrade now by running \"az bicep upgrade\".\n"
                    ]
                }
            ],
            "source": [
                "!az deployment group create --resource-group {resource_group} --template-file {template_file}  --parameters {parameters_file} --name {deployment_name}\n"
            ]
        },
        {
            "cell_type": "markdown",
            "metadata": {},
            "source": [
                "5. Open the app!"
            ]
        },
        {
            "cell_type": "code",
            "execution_count": null,
            "metadata": {},
            "outputs": [],
            "source": [
                "import os\n",
                "import webbrowser\n",
                "\n",
                "fqdn = os.popen(f\"az deployment group show --resource-group {resource_group} --name {deployment_name} --query \\\"properties.outputs.fqdn.value\\\" --output tsv\").read().strip()\n",
                "\n",
                "print(f\"FQDN: {fqdn}\")\n",
                "\n",
                "webbrowser.open_new(fqdn)"
            ]
        }
    ],
    "metadata": {
        "kernelspec": {
            "display_name": "Python 3",
            "language": "python",
            "name": "python3"
        },
        "language_info": {
            "codemirror_mode": {
                "name": "ipython",
                "version": 3
            },
            "file_extension": ".py",
            "mimetype": "text/x-python",
            "name": "python",
            "nbconvert_exporter": "python",
            "pygments_lexer": "ipython3",
            "version": "3.11.9"
        }
    },
    "nbformat": 4,
    "nbformat_minor": 2
}
