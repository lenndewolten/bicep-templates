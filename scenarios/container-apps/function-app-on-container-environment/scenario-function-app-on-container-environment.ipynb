{
    "cells": [
        {
            "cell_type": "markdown",
            "metadata": {},
            "source": [
                "# Function Apps - On container apps!\n",
                "This template enables the provisioning of a function app within an Azure Container App environment, streamlining deployment with customizable parameters. The template deploys key resources: \n",
                "- Storage account for essential data storage\n",
                "- Application insights for monitoring\n",
                "- Connection to the Azure Container Registry (ACR) for image management. \n",
                "- Configures a user-assigned managed identity with role assigments for secure ACR access. \n",
                "- Containerized function app on Linux\n",
                "\n",
                "Please ensure an Container Environment is created before proceeding with the deployment, see [/scenario-container-app-environment.ipynb](../container-app-environment/scenario-container-app-environment.ipynb).\n",
                "\n",
                "## Prerequisites\n",
                "- Azure CLI installed\n",
                "- Bicep CLI installed\n",
                "- Python\n",
                "- Jupyter Notebook or JupyterLab installed\n",
                "- Container app environment ([See scenario-container-app-environment.ipynb](../container-app-environment/scenario-container-app-environment.ipynb))\n"
            ]
        },
        {
            "cell_type": "markdown",
            "metadata": {},
            "source": [
                "## Setup Environment\n",
                "1. Make an .env file, configure the settings on your needs: "
            ]
        },
        {
            "cell_type": "code",
            "execution_count": null,
            "metadata": {},
            "outputs": [],
            "source": [
                "%%writefile .env\n",
                "SUBSCRIPTION_ID=<subscription_id>\n",
                "RESOURCE_GROUP=<resource_group>\n",
                "LOCATION=northeurope\n",
                "\n",
                "TEMPLATE_FILE = \"main.bicep\"\n",
                "PARAMETERS_FILE = \"main.bicepparam\"\n",
                "MANAGED_ENVIRONMENT_NAME=my-container-app-env\n",
                "MANAGED_ENVIRONMENT_RESOURCE_GROUP=container-apps\n",
                "REGISTRY_NAME=lenndewoltentestacr\n",
                "REGISTRY_RESOURCE_GROUP=container-apps"
            ]
        },
        {
            "cell_type": "markdown",
            "metadata": {},
            "source": [
                "2. Install `python-dotenv` if you haven't already. You can install it using pip:"
            ]
        },
        {
            "cell_type": "code",
            "execution_count": null,
            "metadata": {
                "vscode": {
                    "languageId": "shellscript"
                }
            },
            "outputs": [],
            "source": [
                "!pip install python-dotenv"
            ]
        },
        {
            "cell_type": "markdown",
            "metadata": {},
            "source": [
                "3. Load the settings in the environments:"
            ]
        },
        {
            "cell_type": "code",
            "execution_count": null,
            "metadata": {},
            "outputs": [],
            "source": [
                "from dotenv import load_dotenv\n",
                "import os\n",
                "\n",
                "load_dotenv()\n",
                "\n",
                "subscription_id = os.getenv('SUBSCRIPTION_ID')\n",
                "resource_group = os.getenv('RESOURCE_GROUP')\n",
                "location = os.getenv('LOCATION')\n",
                "\n",
                "deployment_name = \"func-deployment\"\n",
                "template_file = os.getenv('TEMPLATE_FILE')\n",
                "parameters_file = os.getenv('PARAMETERS_FILE')\n",
                "\n",
                "managed_environment_name = os.getenv('MANAGED_ENVIRONMENT_NAME')\n",
                "managed_environment_resource_group = os.getenv('MANAGED_ENVIRONMENT_RESOURCE_GROUP')\n",
                "registry_name = os.getenv('REGISTRY_NAME')\n",
                "registry_resource_group = os.getenv('REGISTRY_RESOURCE_GROUP')\n",
                "\n",
                "print(f\"Subscription ID: {subscription_id}\")\n",
                "print(f\"Resource Group: {resource_group}\")\n",
                "print(f\"Location: {location}\")\n",
                "\n",
                "print(f\"Managed Environment Name: {managed_environment_name}\")\n",
                "print(f\"Managed Environment Resource Group: {managed_environment_resource_group}\")\n",
                "print(f\"Registry Name: {registry_name}\")\n",
                "print(f\"Registry Resource Group: {registry_resource_group}\")"
            ]
        },
        {
            "cell_type": "markdown",
            "metadata": {},
            "source": [
                "4. Login and set default Azure subscription"
            ]
        },
        {
            "cell_type": "code",
            "execution_count": null,
            "metadata": {},
            "outputs": [],
            "source": [
                "!az login\n",
                "!az account set --subscription  {subscription_id}"
            ]
        },
        {
            "cell_type": "markdown",
            "metadata": {},
            "source": [
                "5. Create an Azure Resource group:"
            ]
        },
        {
            "cell_type": "code",
            "execution_count": null,
            "metadata": {},
            "outputs": [],
            "source": [
                "!az group create --name {resource_group} --location {location}"
            ]
        },
        {
            "cell_type": "markdown",
            "metadata": {},
            "source": [
                "## Deploy template\n",
                "1. Set the bicep parameters, adjust the settings when needed:"
            ]
        },
        {
            "cell_type": "code",
            "execution_count": null,
            "metadata": {},
            "outputs": [],
            "source": [
                "%%writefile {parameters_file}\n",
                "\n",
                "using '#{template_file}#'\n",
                "\n",
                "param containerAppEnvName = '#{managed_environment_name}#'\n",
                "param containerAppEnvRG = '#{managed_environment_resource_group}#'\n",
                "\n",
                "param applicationName = uniqueString('#{resource_group}#')\n",
                "\n",
                "param registry = {\n",
                "  name: '#{registry_name}#'\n",
                "  resourceGroup: '#{registry_resource_group}#'\n",
                "}"
            ]
        },
        {
            "cell_type": "markdown",
            "metadata": {},
            "source": [
                "2. Seed container registry with the docker image"
            ]
        },
        {
            "cell_type": "code",
            "execution_count": null,
            "metadata": {},
            "outputs": [],
            "source": [
                "source = 'docker.io/lenndewolten/azurefunctions:quickstart-isolated8-v1.0.0'\n",
                "target = 'azurefunctions:quickstart-isolated8-v1.0.0'\n",
                "\n",
                "!az acr import --name {registry_name} --source {source} --image {target} --force"
            ]
        },
        {
            "cell_type": "markdown",
            "metadata": {},
            "source": [
                "3. Replace tokens in `.bicepparam` file"
            ]
        },
        {
            "cell_type": "code",
            "execution_count": null,
            "metadata": {},
            "outputs": [],
            "source": [
                "%run \"../../../utils/placeholder_replacer.py\"\n",
                "\n",
                "path = f'{parameters_file}'\n",
                "replace_placeholders_in_file(path)"
            ]
        },
        {
            "cell_type": "markdown",
            "metadata": {},
            "source": [
                "4. Deploy the template:"
            ]
        },
        {
            "cell_type": "code",
            "execution_count": null,
            "metadata": {},
            "outputs": [],
            "source": [
                "!az deployment group create --resource-group {resource_group} --template-file {template_file}  --parameters {parameters_file} --name {deployment_name}"
            ]
        },
        {
            "cell_type": "markdown",
            "metadata": {},
            "source": [
                "5. Open the app!"
            ]
        },
        {
            "cell_type": "code",
            "execution_count": null,
            "metadata": {},
            "outputs": [],
            "source": [
                "import os\n",
                "import webbrowser\n",
                "\n",
                "fqdn = os.popen(f\"az deployment group show --resource-group {resource_group} --name {deployment_name} --query \\\"properties.outputs.fqdn.value\\\" --output tsv\").read().strip()\n",
                "\n",
                "fqdn = f\"{fqdn}/api/HttpExample\"\n",
                "print(f\"FQDN: {fqdn}\")\n",
                "\n",
                "webbrowser.open_new(fqdn)"
            ]
        }
    ],
    "metadata": {
        "kernelspec": {
            "display_name": "Python 3",
            "language": "python",
            "name": "python3"
        },
        "language_info": {
            "codemirror_mode": {
                "name": "ipython",
                "version": 3
            },
            "file_extension": ".py",
            "mimetype": "text/x-python",
            "name": "python",
            "nbconvert_exporter": "python",
            "pygments_lexer": "ipython3",
            "version": "3.11.9"
        }
    },
    "nbformat": 4,
    "nbformat_minor": 2
}
