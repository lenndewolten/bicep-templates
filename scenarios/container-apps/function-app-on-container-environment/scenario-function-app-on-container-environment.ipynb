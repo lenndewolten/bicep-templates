{
    "cells": [
        {
            "cell_type": "markdown",
            "metadata": {},
            "source": [
                "# Container Apps - File share Deployment\n",
                "This template sets up a containerized application environment with necessary Azure resources, including a file share linked to the container's volumn mount, Azure Container Registry access, container deployment, storage account, and specified role assignments. Please ensure an Container Environment is created before proceeding with the deployment, see [/scenario-container-app-environment.ipynb](../container-app-environment/scenario-container-app-environment.ipynb).\n",
                "\n",
                "## Prerequisites\n",
                "- Azure CLI installed\n",
                "- Bicep CLI installed\n",
                "- Python\n",
                "- Jupyter Notebook or JupyterLab installed\n",
                "- Container app environment ([See scenario-container-app-environment.ipynb](../container-app-environment/scenario-container-app-environment.ipynb))\n"
            ]
        },
        {
            "cell_type": "markdown",
            "metadata": {},
            "source": [
                "## Setup Environment\n",
                "1. Make an .env file, configure the settings on your needs: "
            ]
        },
        {
            "cell_type": "code",
            "execution_count": null,
            "metadata": {},
            "outputs": [],
            "source": [
                "%%writefile .env\n",
                "SUBSCRIPTION_ID=<subscription_id>\n",
                "RESOURCE_GROUP=<resource_group>\n",
                "LOCATION=northeurope\n",
                "\n",
                "TEMPLATE_FILE = \"main.bicep\"\n",
                "PARAMETERS_FILE = \"main.bicepparam\"\n",
                "MANAGED_ENVIRONMENT_NAME=my-container-app-env\n",
                "MANAGED_ENVIRONMENT_RESOURCE_GROUP=container-apps\n",
                "REGISTRY_NAME=lenndewoltentestacr\n",
                "REGISTRY_RESOURCE_GROUP=container-apps"
            ]
        },
        {
            "cell_type": "markdown",
            "metadata": {},
            "source": [
                "2. Install `python-dotenv` if you haven't already. You can install it using pip:"
            ]
        },
        {
            "cell_type": "code",
            "execution_count": null,
            "metadata": {
                "vscode": {
                    "languageId": "shellscript"
                }
            },
            "outputs": [],
            "source": [
                "!pip install python-dotenv"
            ]
        },
        {
            "cell_type": "markdown",
            "metadata": {},
            "source": [
                "3. Load the settings in the environments:"
            ]
        },
        {
            "cell_type": "code",
            "execution_count": 1,
            "metadata": {},
            "outputs": [
                {
                    "name": "stdout",
                    "output_type": "stream",
                    "text": [
                        "Subscription ID: 7ba9e6b6-7591-4828-aaa5-c4656cb871c3\n",
                        "Resource Group: func-on-container-apps\n",
                        "Location: northeurope\n",
                        "Managed Environment Name: my-container-app-env\n",
                        "Managed Environment Resource Group: container-apps\n",
                        "Registry Name: lenndewoltentestacr\n",
                        "Registry Resource Group: container-apps\n"
                    ]
                }
            ],
            "source": [
                "from dotenv import load_dotenv\n",
                "import os\n",
                "\n",
                "load_dotenv()\n",
                "\n",
                "subscription_id = os.getenv('SUBSCRIPTION_ID')\n",
                "resource_group = os.getenv('RESOURCE_GROUP')\n",
                "location = os.getenv('LOCATION')\n",
                "\n",
                "deployment_name = \"func-deployment\"\n",
                "template_file = os.getenv('TEMPLATE_FILE')\n",
                "parameters_file = os.getenv('PARAMETERS_FILE')\n",
                "\n",
                "managed_environment_name = os.getenv('MANAGED_ENVIRONMENT_NAME')\n",
                "managed_environment_resource_group = os.getenv('MANAGED_ENVIRONMENT_RESOURCE_GROUP')\n",
                "registry_name = os.getenv('REGISTRY_NAME')\n",
                "registry_resource_group = os.getenv('REGISTRY_RESOURCE_GROUP')\n",
                "\n",
                "print(f\"Subscription ID: {subscription_id}\")\n",
                "print(f\"Resource Group: {resource_group}\")\n",
                "print(f\"Location: {location}\")\n",
                "\n",
                "print(f\"Managed Environment Name: {managed_environment_name}\")\n",
                "print(f\"Managed Environment Resource Group: {managed_environment_resource_group}\")\n",
                "print(f\"Registry Name: {registry_name}\")\n",
                "print(f\"Registry Resource Group: {registry_resource_group}\")"
            ]
        },
        {
            "cell_type": "markdown",
            "metadata": {},
            "source": [
                "4. Login and set default Azure subscription"
            ]
        },
        {
            "cell_type": "code",
            "execution_count": null,
            "metadata": {},
            "outputs": [],
            "source": [
                "!az login\n",
                "!az account set --subscription  {subscription_id}"
            ]
        },
        {
            "cell_type": "markdown",
            "metadata": {},
            "source": [
                "5. Create an Azure Resource group:"
            ]
        },
        {
            "cell_type": "code",
            "execution_count": 2,
            "metadata": {},
            "outputs": [
                {
                    "name": "stdout",
                    "output_type": "stream",
                    "text": [
                        "{\n",
                        "  \"id\": \"/subscriptions/7ba9e6b6-7591-4828-aaa5-c4656cb871c3/resourceGroups/func-on-container-apps\",\n",
                        "  \"location\": \"northeurope\",\n",
                        "  \"managedBy\": null,\n",
                        "  \"name\": \"func-on-container-apps\",\n",
                        "  \"properties\": {\n",
                        "    \"provisioningState\": \"Succeeded\"\n",
                        "  },\n",
                        "  \"tags\": null,\n",
                        "  \"type\": \"Microsoft.Resources/resourceGroups\"\n",
                        "}\n"
                    ]
                }
            ],
            "source": [
                "!az group create --name {resource_group} --location {location}"
            ]
        },
        {
            "cell_type": "markdown",
            "metadata": {},
            "source": [
                "## Deploy template\n",
                "1. Set the bicep parameters, adjust the settings when needed:"
            ]
        },
        {
            "cell_type": "code",
            "execution_count": 3,
            "metadata": {},
            "outputs": [
                {
                    "name": "stdout",
                    "output_type": "stream",
                    "text": [
                        "Overwriting main.bicepparam\n"
                    ]
                }
            ],
            "source": [
                "%%writefile {parameters_file}\n",
                "\n",
                "using '#{template_file}#'\n",
                "\n",
                "param containerAppEnvName = '#{managed_environment_name}#'\n",
                "param containerAppEnvRG = '#{managed_environment_resource_group}#'\n",
                "\n",
                "param resourceNamePrefix = uniqueString('#{resource_group}#')\n",
                "\n",
                "param registry = {\n",
                "  name: '#{registry_name}#'\n",
                "  resourceGroup: '#{registry_resource_group}#'\n",
                "}"
            ]
        },
        {
            "cell_type": "markdown",
            "metadata": {},
            "source": [
                "2. Seed container registry with the docker image"
            ]
        },
        {
            "cell_type": "code",
            "execution_count": null,
            "metadata": {},
            "outputs": [],
            "source": [
                "source = 'docker.io/lenndewolten/azurefunctions:quickstart-isolated8-v1.0.0'\n",
                "target = 'azurefunctions:quickstart-isolated8-v1.0.0'\n",
                "\n",
                "!az acr import --name {registry_name} --source {source} --image {target} --force"
            ]
        },
        {
            "cell_type": "markdown",
            "metadata": {},
            "source": [
                "3. Replace tokens in `.bicepparam` file"
            ]
        },
        {
            "cell_type": "code",
            "execution_count": 4,
            "metadata": {},
            "outputs": [
                {
                    "name": "stdout",
                    "output_type": "stream",
                    "text": [
                        "Replacing key: \"template_file\", with value: \"main.bicep\"\n",
                        "Replacing key: \"managed_environment_name\", with value: \"my-container-app-env\"\n",
                        "Replacing key: \"managed_environment_resource_group\", with value: \"container-apps\"\n",
                        "Replacing key: \"resource_group\", with value: \"func-on-container-apps\"\n",
                        "Replacing key: \"registry_name\", with value: \"lenndewoltentestacr\"\n",
                        "Replacing key: \"registry_resource_group\", with value: \"container-apps\"\n"
                    ]
                }
            ],
            "source": [
                "%run \"../../../utils/placeholder_replacer.py\"\n",
                "\n",
                "path = f'{parameters_file}'\n",
                "replace_placeholders_in_file(path)"
            ]
        },
        {
            "cell_type": "markdown",
            "metadata": {},
            "source": [
                "4. Deploy the template:"
            ]
        },
        {
            "cell_type": "code",
            "execution_count": 5,
            "metadata": {},
            "outputs": [
                {
                    "name": "stderr",
                    "output_type": "stream",
                    "text": [
                        "WARNING: A new Bicep release is available: v0.29.47. Upgrade now by running \"az bicep upgrade\".\n",
                        "ERROR: {\"status\":\"Failed\",\"error\":{\"code\":\"DeploymentFailed\",\"target\":\"/subscriptions/7ba9e6b6-7591-4828-aaa5-c4656cb871c3/resourceGroups/func-on-container-apps/providers/Microsoft.Resources/deployments/func-deployment\",\"message\":\"At least one resource deployment operation failed. Please list deployment operations for details. Please see https://aka.ms/arm-deployment-operations for usage details.\",\"details\":[{\"code\":\"InvalidTemplateDeployment\",\"message\":\"The template deployment 'function-app-jz364h' is not valid according to the validation procedure. The tracking id is '5d5d3b11-3ac4-4238-8435-f6f589b05f4a'. See inner errors for details.\",\"details\":[{\"code\":\"ValidationForResourceFailed\",\"message\":\"Validation failed for a resource. Check 'Error.Details[0]' for more information.\",\"details\":[{\"code\":\"ValidationForResourceFailed\",\"message\":\"Validation for resource '/subscriptions/7ba9e6b6-7591-4828-aaa5-c4656cb871c3/resourceGroups/func-on-container-apps/providers/Microsoft.Web/sites/dgc3yalq5iwxc-funcapp' failed with exception 'Code: BadRequest, ExtendedCode: linuxFxVersion is invalid.  The linuxFxVersion value should be in the format DOCKER|<IMAGE_URI>, Message: 51021'\"}]}]}]}}\n"
                    ]
                }
            ],
            "source": [
                "!az deployment group create --resource-group {resource_group} --template-file {template_file}  --parameters {parameters_file} --name {deployment_name}"
            ]
        },
        {
            "cell_type": "markdown",
            "metadata": {},
            "source": [
                "5. Open the app!"
            ]
        },
        {
            "cell_type": "code",
            "execution_count": null,
            "metadata": {},
            "outputs": [],
            "source": [
                "import os\n",
                "import webbrowser\n",
                "\n",
                "fqdn = os.popen(f\"az deployment group show --resource-group {resource_group} --name {deployment_name} --query \\\"properties.outputs.fqdn.value\\\" --output tsv\").read().strip()\n",
                "\n",
                "fqdn = f\"{fqdn}/api/HttpExample\"\n",
                "print(f\"FQDN: {fqdn}\")\n",
                "\n",
                "webbrowser.open_new(fqdn)"
            ]
        }
    ],
    "metadata": {
        "kernelspec": {
            "display_name": "Python 3",
            "language": "python",
            "name": "python3"
        },
        "language_info": {
            "codemirror_mode": {
                "name": "ipython",
                "version": 3
            },
            "file_extension": ".py",
            "mimetype": "text/x-python",
            "name": "python",
            "nbconvert_exporter": "python",
            "pygments_lexer": "ipython3",
            "version": "3.11.9"
        }
    },
    "nbformat": 4,
    "nbformat_minor": 2
}
