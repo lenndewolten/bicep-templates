{
 "cells": [
  {
   "cell_type": "markdown",
   "metadata": {},
   "source": [
    "# Cosmos Db with container app\n",
    "This template sets up a containerized application with a cosmos db connection. Please ensure an Container Environment is created before proceeding with the deployment, see [/scenario-container-app-environment.ipynb](../container-app-environment/scenario-container-app-environment.ipynb).\n",
    "\n",
    "## Prerequisites\n",
    "- Azure CLI installed\n",
    "- Bicep CLI installed\n",
    "- Python\n",
    "- Jupyter Notebook or JupyterLab installed\n",
    "- Container app environment ([See scenario-container-app-environment.ipynb](../container-app-environment/scenario-container-app-environment.ipynb))\n",
    "\n"
   ]
  },
  {
   "cell_type": "markdown",
   "metadata": {},
   "source": [
    "## Setup Environment\n",
    "1. Make an .env file, configure the settings on your needs: "
   ]
  },
  {
   "cell_type": "code",
   "execution_count": null,
   "metadata": {},
   "outputs": [],
   "source": [
    "%%writefile .env\n",
    "SUBSCRIPTION_ID=<subscription_id>\n",
    "RESOURCE_GROUP=<resource_group>\n",
    "LOCATION=northeurope"
   ]
  },
  {
   "cell_type": "markdown",
   "metadata": {},
   "source": [
    "2. Install `python-dotenv` if you haven't already. You can install it using pip:"
   ]
  },
  {
   "cell_type": "code",
   "execution_count": null,
   "metadata": {
    "vscode": {
     "languageId": "shellscript"
    }
   },
   "outputs": [],
   "source": [
    "!pip install python-dotenv"
   ]
  },
  {
   "cell_type": "markdown",
   "metadata": {},
   "source": [
    "3. Load the settings in the environments:"
   ]
  },
  {
   "cell_type": "code",
   "execution_count": 1,
   "metadata": {},
   "outputs": [
    {
     "name": "stdout",
     "output_type": "stream",
     "text": [
      "Subscription ID: 7ba9e6b6-7591-4828-aaa5-c4656cb871c3\n",
      "Resource Group: cosmos-container-app\n",
      "Location: northeurope\n"
     ]
    }
   ],
   "source": [
    "from dotenv import load_dotenv\n",
    "import os\n",
    "\n",
    "load_dotenv()\n",
    "\n",
    "subscription_id = os.getenv('SUBSCRIPTION_ID')\n",
    "resource_group = os.getenv('RESOURCE_GROUP')\n",
    "location = os.getenv('LOCATION')\n",
    "\n",
    "deployment_name = \"cosmos-db-deployment\"\n",
    "template_file = \"main.bicep\"\n",
    "parameters_file = \"main.bicepparam\"\n",
    "\n",
    "print(f\"Subscription ID: {subscription_id}\")\n",
    "print(f\"Resource Group: {resource_group}\")\n",
    "print(f\"Location: {location}\")"
   ]
  },
  {
   "cell_type": "markdown",
   "metadata": {},
   "source": [
    "4. Create an Azure Resource group:"
   ]
  },
  {
   "cell_type": "code",
   "execution_count": null,
   "metadata": {},
   "outputs": [],
   "source": [
    "!az login\n",
    "!az account set --subscription  {subscription_id}\n",
    "!az group create --name {resource_group} --location {location}"
   ]
  },
  {
   "cell_type": "markdown",
   "metadata": {},
   "source": [
    "## Deploy template\n",
    "1. Set the bicep parameters, adjust the settings when needed:"
   ]
  },
  {
   "cell_type": "code",
   "execution_count": null,
   "metadata": {},
   "outputs": [],
   "source": [
    "%%writefile {parameters_file}\n",
    "\n",
    "using 'main.bicep'\n",
    "\n",
    "var databaseName = 'testdb'\n",
    "\n",
    "param cosmosDbConfig = {\n",
    "  accountName: take('csmdb${uniqueString(databaseName)}', 15)\n",
    "  database: {\n",
    "    name: databaseName\n",
    "  }\n",
    "  containers: [\n",
    "    {\n",
    "      name: 'movies'\n",
    "      partitionKey: {\n",
    "        kind: 'Hash'\n",
    "        paths: [\n",
    "          '/id'\n",
    "        ]\n",
    "      }\n",
    "    }\n",
    "    {\n",
    "      name: 'movies_leases'\n",
    "      partitionKey: {\n",
    "        kind: 'Hash'\n",
    "        paths: [\n",
    "          '/id'\n",
    "        ]\n",
    "      }\n",
    "    }\n",
    "    {\n",
    "      name: 'movies_by_genre'\n",
    "      partitionKey: {\n",
    "        kind: 'Hash'\n",
    "        paths: [\n",
    "          '/genre'\n",
    "        ]\n",
    "      }\n",
    "    }\n",
    "  ]\n",
    "}\n",
    "\n",
    "param containerAppConfig = {\n",
    "  environment: {\n",
    "    name: 'my-container-app-env'\n",
    "    resourceGroup: 'container-apps'\n",
    "  }\n",
    "  name: 'my-cosmos-container-app'\n",
    "  ingress: {\n",
    "    allowInsecure: false\n",
    "    clientCertificateMode: 'ignore'\n",
    "    external: true\n",
    "    targetPort: 80\n",
    "    transport: 'auto'\n",
    "    traffic: [\n",
    "      {\n",
    "        latestRevision: true\n",
    "        weight: 100\n",
    "      }\n",
    "    ]\n",
    "  }\n",
    "  containers: [\n",
    "    {\n",
    "      registry: 'mcr.microsoft.com'\n",
    "      image: 'azuredocs/containerapps-helloworld:latest'\n",
    "      name: 'hello-world-container'\n",
    "      resources: {\n",
    "        cpu: '0.25'\n",
    "        memory: '0.5Gi'\n",
    "      }\n",
    "      env: [\n",
    "        {\n",
    "          name: 'TEST_VAR1'\n",
    "          value: 'hello world'\n",
    "        }\n",
    "      ]\n",
    "    }\n",
    "  ]\n",
    "  scale: {\n",
    "    minReplicas: 1\n",
    "    maxReplicas: 2\n",
    "    rules: [\n",
    "      {\n",
    "        name: 'http-requests'\n",
    "        http: {\n",
    "          metadata: {\n",
    "            concurrentRequests: '10'\n",
    "          }\n",
    "        }\n",
    "      }\n",
    "    ]\n",
    "  }\n",
    "}"
   ]
  },
  {
   "cell_type": "markdown",
   "metadata": {},
   "source": [
    "2. Deploy the template:"
   ]
  },
  {
   "cell_type": "code",
   "execution_count": null,
   "metadata": {},
   "outputs": [],
   "source": [
    "!az deployment group create --resource-group {resource_group} --template-file {template_file}  --parameters {parameters_file} --name {deployment_name} "
   ]
  }
 ],
 "metadata": {
  "kernelspec": {
   "display_name": "Python 3",
   "language": "python",
   "name": "python3"
  },
  "language_info": {
   "codemirror_mode": {
    "name": "ipython",
    "version": 3
   },
   "file_extension": ".py",
   "mimetype": "text/x-python",
   "name": "python",
   "nbconvert_exporter": "python",
   "pygments_lexer": "ipython3",
   "version": "3.11.9"
  }
 },
 "nbformat": 4,
 "nbformat_minor": 2
}
