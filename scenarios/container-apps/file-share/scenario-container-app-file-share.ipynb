{
 "cells": [
  {
   "cell_type": "markdown",
   "metadata": {},
   "source": [
    "# Container Apps - File share Deployment\n",
    "This template sets up a containerized application environment with necessary Azure resources, including a file share linked to the container's volumn mount, Azure Container Registry access, container deployment, storage account, and specified role assignments.\n",
    "\n",
    "## Prerequisites\n",
    "- Azure CLI installed\n",
    "- Bicep CLI installed\n",
    "- Python\n",
    "- Jupyter Notebook or JupyterLab installed\n",
    "- Container app environment ([See scenario-container-app-environment.ipynb](../environment/scenario-container-app-environment.ipynb))\n"
   ]
  },
  {
   "cell_type": "markdown",
   "metadata": {},
   "source": [
    "## Setup Environment\n",
    "1. Make an .env file, configure the settings on your needs: "
   ]
  },
  {
   "cell_type": "code",
   "execution_count": null,
   "metadata": {},
   "outputs": [],
   "source": [
    "%%writefile .env\n",
    "SUBSCRIPTION_ID=<subscription_id>\n",
    "RESOURCE_GROUP=<resource_group>\n",
    "LOCATION=eastus"
   ]
  },
  {
   "cell_type": "markdown",
   "metadata": {},
   "source": [
    "2. Install `python-dotenv` if you haven't already. You can install it using pip:"
   ]
  },
  {
   "cell_type": "code",
   "execution_count": null,
   "metadata": {
    "vscode": {
     "languageId": "shellscript"
    }
   },
   "outputs": [],
   "source": [
    "!pip install python-dotenv"
   ]
  },
  {
   "cell_type": "markdown",
   "metadata": {},
   "source": [
    "3. Load the settings in the environments:"
   ]
  },
  {
   "cell_type": "code",
   "execution_count": null,
   "metadata": {},
   "outputs": [],
   "source": [
    "from dotenv import load_dotenv\n",
    "import os\n",
    "\n",
    "load_dotenv()\n",
    "\n",
    "subscription_id = os.getenv('SUBSCRIPTION_ID')\n",
    "resource_group = os.getenv('RESOURCE_GROUP')\n",
    "location = os.getenv('LOCATION')\n",
    "\n",
    "template_file = \"main.bicep\"\n",
    "parameters_file = \"parameters.json\"\n",
    "\n",
    "print(f\"Subscription ID: {subscription_id}\")\n",
    "print(f\"Resource Group: {resource_group}\")\n",
    "print(f\"Location: {location}\")"
   ]
  },
  {
   "cell_type": "markdown",
   "metadata": {},
   "source": [
    "4. Create an Azure Resource group:"
   ]
  },
  {
   "cell_type": "code",
   "execution_count": null,
   "metadata": {},
   "outputs": [],
   "source": [
    "!az login\n",
    "!az account set --subscription  {subscription_id}\n",
    "!az group create --name {resource_group} --location eastus"
   ]
  },
  {
   "cell_type": "markdown",
   "metadata": {},
   "source": [
    "## Deploy template\n",
    "1. Set the bicep parameters, adjust the settings when needed:"
   ]
  },
  {
   "cell_type": "code",
   "execution_count": null,
   "metadata": {},
   "outputs": [],
   "source": [
    "%%writefile main.bicepparam\n",
    "\n",
    "using 'main.bicep'\n",
    "\n",
    "param containerAppEnvName = 'my-container-app-env'\n",
    "param containerAppEnvRG = 'container-apps'\n",
    "\n",
    "param acrName = 'lenndewoltentestacr'\n",
    "param acrRG = 'container-apps'\n",
    "\n",
    "param containerAppName = 'my-test-container-app'\n",
    "param storageAccountName = 'lenntstchtrappfilestrg'\n",
    "\n",
    "param image = {\n",
    "  repository: 'containerapps-helloworld'\n",
    "  tag: 'latest'\n",
    "}\n",
    "\n",
    "param resources = {\n",
    "  cpu: json('0.25')\n",
    "  memory: '0.5Gi'\n",
    "}\n"
   ]
  },
  {
   "cell_type": "markdown",
   "metadata": {},
   "source": [
    "2. Optional: Seed container registry with the docker image"
   ]
  },
  {
   "cell_type": "code",
   "execution_count": null,
   "metadata": {},
   "outputs": [],
   "source": [
    "acrName = 'lenndewoltentestacr'\n",
    "repository = 'containerapps-helloworld'\n",
    "tag = 'latest'\n",
    "\n",
    "!az acr import --name {acrName} --source mcr.microsoft.com/azuredocs/containerapps-helloworld:latest --image {repository}:{tag}"
   ]
  },
  {
   "cell_type": "markdown",
   "metadata": {},
   "source": [
    "3. Deploy the template:"
   ]
  },
  {
   "cell_type": "code",
   "execution_count": null,
   "metadata": {},
   "outputs": [],
   "source": [
    "!az deployment group create --resource-group {resource_group} --template-file main.bicep  --parameters main.bicepparam --name container-apps-deployment \n"
   ]
  },
  {
   "cell_type": "markdown",
   "metadata": {},
   "source": [
    "4. Get the url:"
   ]
  },
  {
   "cell_type": "code",
   "execution_count": null,
   "metadata": {},
   "outputs": [],
   "source": [
    "!az deployment group show --resource-group {resource_group} --name container-apps-deployment --query \"properties.outputs.applicationUrl.value\" --output tsv"
   ]
  }
 ],
 "metadata": {
  "kernelspec": {
   "display_name": "Python 3",
   "language": "python",
   "name": "python3"
  },
  "language_info": {
   "codemirror_mode": {
    "name": "ipython",
    "version": 3
   },
   "file_extension": ".py",
   "mimetype": "text/x-python",
   "name": "python",
   "nbconvert_exporter": "python",
   "pygments_lexer": "ipython3",
   "version": "3.11.9"
  }
 },
 "nbformat": 4,
 "nbformat_minor": 2
}
