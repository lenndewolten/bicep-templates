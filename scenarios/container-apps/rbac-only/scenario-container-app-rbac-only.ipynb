{
 "cells": [
  {
   "cell_type": "markdown",
   "metadata": {},
   "source": [
    "# Container Apps - RBAC only\n",
    "This template sets up a containerized application environment with necessary Azure resources, including a managed identity, Azure Container Registry access, container deployment, optional storage account, and specified role assignments.\n",
    "\n",
    "## Prerequisites\n",
    "- Azure CLI installed\n",
    "- Bicep CLI installed\n",
    "- Python\n",
    "- Jupyter Notebook or JupyterLab installed\n",
    "- Container app environment ([See scenario-container-app-environment.ipynb](../environment/scenario-container-app-environment.ipynb))\n"
   ]
  },
  {
   "cell_type": "markdown",
   "metadata": {},
   "source": [
    "## Setup Environment\n",
    "1. Make an .env file, configure the settings on your needs: "
   ]
  },
  {
   "cell_type": "code",
   "execution_count": 1,
   "metadata": {},
   "outputs": [
    {
     "name": "stdout",
     "output_type": "stream",
     "text": [
      "Writing .env\n"
     ]
    }
   ],
   "source": [
    "%%writefile .env\n",
    "SUBSCRIPTION_ID=<subscription_id>\n",
    "RESOURCE_GROUP=<resource_group>\n",
    "LOCATION=eastus"
   ]
  },
  {
   "cell_type": "markdown",
   "metadata": {},
   "source": [
    "2. Install `python-dotenv` if you haven't already. You can install it using pip:"
   ]
  },
  {
   "cell_type": "code",
   "execution_count": null,
   "metadata": {
    "vscode": {
     "languageId": "shellscript"
    }
   },
   "outputs": [],
   "source": [
    "!pip install python-dotenv"
   ]
  },
  {
   "cell_type": "markdown",
   "metadata": {},
   "source": [
    "3. Load the settings in the environments:"
   ]
  },
  {
   "cell_type": "code",
   "execution_count": 2,
   "metadata": {},
   "outputs": [
    {
     "name": "stdout",
     "output_type": "stream",
     "text": [
      "Subscription ID: <subscription_id>\n",
      "Resource Group: <resource_group>\n",
      "Location: eastus\n"
     ]
    }
   ],
   "source": [
    "from dotenv import load_dotenv\n",
    "import os\n",
    "\n",
    "load_dotenv()\n",
    "\n",
    "subscription_id = os.getenv('SUBSCRIPTION_ID')\n",
    "resource_group = os.getenv('RESOURCE_GROUP')\n",
    "location = os.getenv('LOCATION')\n",
    "\n",
    "template_file = \"main.bicep\"\n",
    "parameters_file = \"parameters.json\"\n",
    "\n",
    "print(f\"Subscription ID: {subscription_id}\")\n",
    "print(f\"Resource Group: {resource_group}\")\n",
    "print(f\"Location: {location}\")"
   ]
  },
  {
   "cell_type": "markdown",
   "metadata": {},
   "source": [
    "4. Create an Azure Resource group:"
   ]
  },
  {
   "cell_type": "code",
   "execution_count": 3,
   "metadata": {},
   "outputs": [
    {
     "name": "stdout",
     "output_type": "stream",
     "text": [
      "[\n",
      "  {\n",
      "    \"cloudName\": \"AzureCloud\",\n",
      "    \"homeTenantId\": \"71dd74e2-a620-4a8e-9ac4-a19e1ff9ddff\",\n",
      "    \"id\": \"835ebe2e-68d1-4817-925d-1aae42ec01db\",\n",
      "    \"isDefault\": false,\n",
      "    \"managedByTenants\": [\n",
      "      {\n",
      "        \"tenantId\": \"37ac251a-9341-4ae8-b2a2-aa7febf5ce05\"\n",
      "      }\n",
      "    ],\n",
      "    \"name\": \"RBR_DPT_GENERIC_P\",\n",
      "    \"state\": \"Enabled\",\n",
      "    \"tenantId\": \"71dd74e2-a620-4a8e-9ac4-a19e1ff9ddff\",\n",
      "    \"user\": {\n",
      "      \"name\": \"ROB5207@robeco.nl\",\n",
      "      \"type\": \"user\"\n",
      "    }\n",
      "  },\n",
      "  {\n",
      "    \"cloudName\": \"AzureCloud\",\n",
      "    \"homeTenantId\": \"71dd74e2-a620-4a8e-9ac4-a19e1ff9ddff\",\n",
      "    \"id\": \"e84d14c9-e150-4500-93b2-5aa2829e295d\",\n",
      "    \"isDefault\": false,\n",
      "    \"managedByTenants\": [\n",
      "      {\n",
      "        \"tenantId\": \"37ac251a-9341-4ae8-b2a2-aa7febf5ce05\"\n",
      "      }\n",
      "    ],\n",
      "    \"name\": \"RBR_CSS_EQUITY_O\",\n",
      "    \"state\": \"Enabled\",\n",
      "    \"tenantId\": \"71dd74e2-a620-4a8e-9ac4-a19e1ff9ddff\",\n",
      "    \"user\": {\n",
      "      \"name\": \"ROB5207@robeco.nl\",\n",
      "      \"type\": \"user\"\n",
      "    }\n",
      "  },\n",
      "  {\n",
      "    \"cloudName\": \"AzureCloud\",\n",
      "    \"homeTenantId\": \"71dd74e2-a620-4a8e-9ac4-a19e1ff9ddff\",\n",
      "    \"id\": \"69a5dbad-f6d3-4d67-80a7-5a593cf498a0\",\n",
      "    \"isDefault\": false,\n",
      "    \"managedByTenants\": [\n",
      "      {\n",
      "        \"tenantId\": \"37ac251a-9341-4ae8-b2a2-aa7febf5ce05\"\n",
      "      }\n",
      "    ],\n",
      "    \"name\": \"DXC_GENERIC_P\",\n",
      "    \"state\": \"Enabled\",\n",
      "    \"tenantId\": \"71dd74e2-a620-4a8e-9ac4-a19e1ff9ddff\",\n",
      "    \"user\": {\n",
      "      \"name\": \"ROB5207@robeco.nl\",\n",
      "      \"type\": \"user\"\n",
      "    }\n",
      "  },\n",
      "  {\n",
      "    \"cloudName\": \"AzureCloud\",\n",
      "    \"homeTenantId\": \"71dd74e2-a620-4a8e-9ac4-a19e1ff9ddff\",\n",
      "    \"id\": \"62dfb692-6dba-461e-afbc-3ef5bc4c2656\",\n",
      "    \"isDefault\": false,\n",
      "    \"managedByTenants\": [\n",
      "      {\n",
      "        \"tenantId\": \"37ac251a-9341-4ae8-b2a2-aa7febf5ce05\"\n",
      "      }\n",
      "    ],\n",
      "    \"name\": \"RBR_CSS_EQUITY_P\",\n",
      "    \"state\": \"Enabled\",\n",
      "    \"tenantId\": \"71dd74e2-a620-4a8e-9ac4-a19e1ff9ddff\",\n",
      "    \"user\": {\n",
      "      \"name\": \"ROB5207@robeco.nl\",\n",
      "      \"type\": \"user\"\n",
      "    }\n",
      "  },\n",
      "  {\n",
      "    \"cloudName\": \"AzureCloud\",\n",
      "    \"homeTenantId\": \"71dd74e2-a620-4a8e-9ac4-a19e1ff9ddff\",\n",
      "    \"id\": \"1803e6b9-001d-4176-b13a-952f7938a1f5\",\n",
      "    \"isDefault\": false,\n",
      "    \"managedByTenants\": [\n",
      "      {\n",
      "        \"tenantId\": \"37ac251a-9341-4ae8-b2a2-aa7febf5ce05\"\n",
      "      }\n",
      "    ],\n",
      "    \"name\": \"PLP\",\n",
      "    \"state\": \"Enabled\",\n",
      "    \"tenantId\": \"71dd74e2-a620-4a8e-9ac4-a19e1ff9ddff\",\n",
      "    \"user\": {\n",
      "      \"name\": \"ROB5207@robeco.nl\",\n",
      "      \"type\": \"user\"\n",
      "    }\n",
      "  },\n",
      "  {\n",
      "    \"cloudName\": \"AzureCloud\",\n",
      "    \"homeTenantId\": \"71dd74e2-a620-4a8e-9ac4-a19e1ff9ddff\",\n",
      "    \"id\": \"6ca5a38a-8170-4d76-82cb-ca8fe5e30901\",\n",
      "    \"isDefault\": false,\n",
      "    \"managedByTenants\": [\n",
      "      {\n",
      "        \"tenantId\": \"2f4a9838-26b7-47ee-be60-ccc1fdec5953\"\n",
      "      },\n",
      "      {\n",
      "        \"tenantId\": \"37ac251a-9341-4ae8-b2a2-aa7febf5ce05\"\n",
      "      }\n",
      "    ],\n",
      "    \"name\": \"QRP\",\n",
      "    \"state\": \"Enabled\",\n",
      "    \"tenantId\": \"71dd74e2-a620-4a8e-9ac4-a19e1ff9ddff\",\n",
      "    \"user\": {\n",
      "      \"name\": \"ROB5207@robeco.nl\",\n",
      "      \"type\": \"user\"\n",
      "    }\n",
      "  },\n",
      "  {\n",
      "    \"cloudName\": \"AzureCloud\",\n",
      "    \"homeTenantId\": \"71dd74e2-a620-4a8e-9ac4-a19e1ff9ddff\",\n",
      "    \"id\": \"7ba9e6b6-7591-4828-aaa5-c4656cb871c3\",\n",
      "    \"isDefault\": true,\n",
      "    \"managedByTenants\": [],\n",
      "    \"name\": \"Visual Studio Enterprise Subscription\",\n",
      "    \"state\": \"Enabled\",\n",
      "    \"tenantId\": \"71dd74e2-a620-4a8e-9ac4-a19e1ff9ddff\",\n",
      "    \"user\": {\n",
      "      \"name\": \"ROB5207@robeco.nl\",\n",
      "      \"type\": \"user\"\n",
      "    }\n",
      "  }\n",
      "]\n"
     ]
    },
    {
     "name": "stderr",
     "output_type": "stream",
     "text": [
      "WARNING: Please select the account you want to log in with.\n",
      "WARNING: The following tenants don't contain accessible subscriptions. Use 'az login --allow-no-subscriptions' to have tenant level access.\n",
      "WARNING: 72f988bf-86f1-41af-91ab-2d7cd011db47 'Microsoft'\n",
      "The syntax of the command is incorrect.\n",
      "The system cannot find the file specified.\n"
     ]
    }
   ],
   "source": [
    "!az login\n",
    "!az account set --subscription  {subscription_id}\n",
    "!az group create --name {resource_group} --location eastus"
   ]
  },
  {
   "cell_type": "markdown",
   "metadata": {},
   "source": [
    "## Deploy template\n",
    "1. Set the bicep parameters, adjust the settings when needed:"
   ]
  },
  {
   "cell_type": "code",
   "execution_count": null,
   "metadata": {},
   "outputs": [],
   "source": [
    "%%writefile main.bicepparam\n",
    "\n",
    "using 'main.bicep'\n",
    "\n",
    "param containerAppEnvName = 'my-container-app-env'\n",
    "param containerAppEnvRG = 'container-apps'\n",
    "\n",
    "param acrName = 'lenndewoltentestacr'\n",
    "param acrRG = 'container-apps'\n",
    "\n",
    "param containerAppName = 'my-test-container-app'\n",
    "param storageAccountName = 'lenntstchtrappfilestrg'\n",
    "\n",
    "param image = {\n",
    "  repository: 'containerapps-helloworld'\n",
    "  tag: 'latest'\n",
    "}\n",
    "\n",
    "param resources = {\n",
    "  cpu: '0.5'\n",
    "  memory: '1Gi'\n",
    "}\n"
   ]
  },
  {
   "cell_type": "markdown",
   "metadata": {},
   "source": [
    "2. Optional: Seed container registry with the docker image"
   ]
  },
  {
   "cell_type": "code",
   "execution_count": null,
   "metadata": {},
   "outputs": [],
   "source": [
    "acrName = 'lenndewoltentestacr'\n",
    "repository = 'containerapps-helloworld'\n",
    "tag = 'latest'\n",
    "\n",
    "!az acr import --name {acrName} --source mcr.microsoft.com/azuredocs/containerapps-helloworld:latest --image {repository}:{tag}"
   ]
  },
  {
   "cell_type": "markdown",
   "metadata": {},
   "source": [
    "3. Deploy the template:"
   ]
  },
  {
   "cell_type": "code",
   "execution_count": null,
   "metadata": {},
   "outputs": [],
   "source": [
    "!az deployment group create --resource-group {resource_group} --template-file main.bicep  --parameters main.bicepparam --name container-apps-deployment \n"
   ]
  },
  {
   "cell_type": "markdown",
   "metadata": {},
   "source": [
    "4. Get the url:"
   ]
  },
  {
   "cell_type": "code",
   "execution_count": null,
   "metadata": {},
   "outputs": [],
   "source": [
    "!az deployment group show --resource-group {resource_group} --name container-apps-deployment --query \"properties.outputs.applicationUrl.value\" --output tsv"
   ]
  }
 ],
 "metadata": {
  "kernelspec": {
   "display_name": "Python 3",
   "language": "python",
   "name": "python3"
  },
  "language_info": {
   "codemirror_mode": {
    "name": "ipython",
    "version": 3
   },
   "file_extension": ".py",
   "mimetype": "text/x-python",
   "name": "python",
   "nbconvert_exporter": "python",
   "pygments_lexer": "ipython3",
   "version": "3.11.9"
  }
 },
 "nbformat": 4,
 "nbformat_minor": 2
}
