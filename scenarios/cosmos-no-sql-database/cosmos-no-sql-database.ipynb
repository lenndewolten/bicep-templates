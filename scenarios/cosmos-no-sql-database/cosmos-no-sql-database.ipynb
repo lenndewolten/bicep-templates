{
 "cells": [
  {
   "cell_type": "markdown",
   "metadata": {},
   "source": [
    "# Cosmos no SQL databse\n",
    "This Bicep template deploys an Azure Cosmos DB account with customizable settings, including location, database configurations, containers, failover options, and backup policies. It automates the setup of a Cosmos DB account, a SQL database, containers, and role assignments, ensuring flexibility and multi-region support.\n",
    "\n",
    "## Prerequisites\n",
    "- Azure CLI installed\n",
    "- Bicep CLI installed\n",
    "- Python\n",
    "- Jupyter Notebook or JupyterLab installed\n"
   ]
  },
  {
   "cell_type": "markdown",
   "metadata": {},
   "source": [
    "## Setup Environment\n",
    "1. Make an .env file, configure the settings on your needs: "
   ]
  },
  {
   "cell_type": "code",
   "execution_count": null,
   "metadata": {},
   "outputs": [],
   "source": [
    "%%writefile .env\n",
    "SUBSCRIPTION_ID=<subscription_id>\n",
    "RESOURCE_GROUP=<resource_group>\n",
    "LOCATION=northeurope"
   ]
  },
  {
   "cell_type": "markdown",
   "metadata": {},
   "source": [
    "2. Install `python-dotenv` if you haven't already. You can install it using pip:"
   ]
  },
  {
   "cell_type": "code",
   "execution_count": null,
   "metadata": {
    "vscode": {
     "languageId": "shellscript"
    }
   },
   "outputs": [],
   "source": [
    "!pip install python-dotenv"
   ]
  },
  {
   "cell_type": "markdown",
   "metadata": {},
   "source": [
    "3. Load the settings in the environments:"
   ]
  },
  {
   "cell_type": "code",
   "execution_count": 2,
   "metadata": {},
   "outputs": [
    {
     "name": "stdout",
     "output_type": "stream",
     "text": [
      "Subscription ID: 7ba9e6b6-7591-4828-aaa5-c4656cb871c3\n",
      "Resource Group: my-cosmosdb-server\n",
      "Location: northeurope\n"
     ]
    }
   ],
   "source": [
    "from dotenv import load_dotenv\n",
    "import os\n",
    "\n",
    "load_dotenv()\n",
    "\n",
    "subscription_id = os.getenv('SUBSCRIPTION_ID')\n",
    "resource_group = os.getenv('RESOURCE_GROUP')\n",
    "location = os.getenv('LOCATION')\n",
    "\n",
    "deployment_name = \"cosmos-db-deployment\"\n",
    "template_file = \"main.bicep\"\n",
    "parameters_file = \"main.bicepparam\"\n",
    "\n",
    "print(f\"Subscription ID: {subscription_id}\")\n",
    "print(f\"Resource Group: {resource_group}\")\n",
    "print(f\"Location: {location}\")"
   ]
  },
  {
   "cell_type": "markdown",
   "metadata": {},
   "source": [
    "4. Create an Azure Resource group:"
   ]
  },
  {
   "cell_type": "code",
   "execution_count": null,
   "metadata": {},
   "outputs": [],
   "source": [
    "!az login\n",
    "!az account set --subscription  {subscription_id}\n",
    "!az group create --name {resource_group} --location {location}"
   ]
  },
  {
   "cell_type": "markdown",
   "metadata": {},
   "source": [
    "## Deploy template\n",
    "1. Set the bicep parameters, adjust the settings when needed:"
   ]
  },
  {
   "cell_type": "code",
   "execution_count": 3,
   "metadata": {},
   "outputs": [
    {
     "name": "stdout",
     "output_type": "stream",
     "text": [
      "Overwriting main.bicepparam\n"
     ]
    }
   ],
   "source": [
    "%%writefile {parameters_file}\n",
    "\n",
    "using 'main.bicep'\n",
    "\n",
    "param accountName = '${take('csmdb${uniqueString(database.name)}', 15)}'\n",
    "param database = {\n",
    "  name: 'testdb'\n",
    "}\n",
    "param containers = [\n",
    "  {\n",
    "    name: 'testcontainer'\n",
    "    partitionKey: {\n",
    "      kind: 'Hash'\n",
    "      paths: [\n",
    "        '/id'\n",
    "      ]\n",
    "    }\n",
    "  }\n",
    "  {\n",
    "    name: 'leases'\n",
    "    partitionKey: {\n",
    "      kind: 'Hash'\n",
    "      paths: [\n",
    "        '/id'\n",
    "      ]\n",
    "    }\n",
    "  }\n",
    "]"
   ]
  },
  {
   "cell_type": "markdown",
   "metadata": {},
   "source": [
    "2. Deploy the template:"
   ]
  },
  {
   "cell_type": "code",
   "execution_count": 4,
   "metadata": {},
   "outputs": [
    {
     "name": "stdout",
     "output_type": "stream",
     "text": [
      "{\n",
      "  \"id\": \"/subscriptions/7ba9e6b6-7591-4828-aaa5-c4656cb871c3/resourceGroups/my-cosmosdb-server/providers/Microsoft.Resources/deployments/cosmos-db-deployment\",\n",
      "  \"location\": null,\n",
      "  \"name\": \"cosmos-db-deployment\",\n",
      "  \"properties\": {\n",
      "    \"correlationId\": \"0ced8a67-aa2f-46b0-90f5-57b56ec3ad89\",\n",
      "    \"debugSetting\": null,\n",
      "    \"dependencies\": [],\n",
      "    \"duration\": \"PT50.4611712S\",\n",
      "    \"error\": null,\n",
      "    \"mode\": \"Incremental\",\n",
      "    \"onErrorDeployment\": null,\n",
      "    \"outputResources\": [\n",
      "      {\n",
      "        \"id\": \"/subscriptions/7ba9e6b6-7591-4828-aaa5-c4656cb871c3/resourceGroups/my-cosmosdb-server/providers/Microsoft.DocumentDB/databaseAccounts/csmdb3calqrhvbv\",\n",
      "        \"resourceGroup\": \"my-cosmosdb-server\"\n",
      "      },\n",
      "      {\n",
      "        \"id\": \"/subscriptions/7ba9e6b6-7591-4828-aaa5-c4656cb871c3/resourceGroups/my-cosmosdb-server/providers/Microsoft.DocumentDB/databaseAccounts/csmdb3calqrhvbv/sqlDatabases/testdb\",\n",
      "        \"resourceGroup\": \"my-cosmosdb-server\"\n",
      "      },\n",
      "      {\n",
      "        \"id\": \"/subscriptions/7ba9e6b6-7591-4828-aaa5-c4656cb871c3/resourceGroups/my-cosmosdb-server/providers/Microsoft.DocumentDB/databaseAccounts/csmdb3calqrhvbv/sqlDatabases/testdb/containers/deadletter\",\n",
      "        \"resourceGroup\": \"my-cosmosdb-server\"\n",
      "      },\n",
      "      {\n",
      "        \"id\": \"/subscriptions/7ba9e6b6-7591-4828-aaa5-c4656cb871c3/resourceGroups/my-cosmosdb-server/providers/Microsoft.DocumentDB/databaseAccounts/csmdb3calqrhvbv/sqlDatabases/testdb/containers/leases\",\n",
      "        \"resourceGroup\": \"my-cosmosdb-server\"\n",
      "      },\n",
      "      {\n",
      "        \"id\": \"/subscriptions/7ba9e6b6-7591-4828-aaa5-c4656cb871c3/resourceGroups/my-cosmosdb-server/providers/Microsoft.DocumentDB/databaseAccounts/csmdb3calqrhvbv/sqlDatabases/testdb/containers/testcontainer\",\n",
      "        \"resourceGroup\": \"my-cosmosdb-server\"\n",
      "      }\n",
      "    ],\n",
      "    \"outputs\": {\n",
      "      \"cosmosEndpoint\": {\n",
      "        \"type\": \"String\",\n",
      "        \"value\": \"https://csmdb3calqrhvbv.documents.azure.com:443/\"\n",
      "      }\n",
      "    },\n",
      "    \"parameters\": {\n",
      "      \"accountName\": {\n",
      "        \"type\": \"String\",\n",
      "        \"value\": \"csmdb3calqrhvbv\"\n",
      "      },\n",
      "      \"containers\": {\n",
      "        \"type\": \"Array\",\n",
      "        \"value\": [\n",
      "          {\n",
      "            \"name\": \"testcontainer\",\n",
      "            \"partitionKey\": {\n",
      "              \"kind\": \"Hash\",\n",
      "              \"paths\": [\n",
      "                \"/id\"\n",
      "              ]\n",
      "            }\n",
      "          },\n",
      "          {\n",
      "            \"name\": \"leases\",\n",
      "            \"partitionKey\": {\n",
      "              \"kind\": \"Hash\",\n",
      "              \"paths\": [\n",
      "                \"/id\"\n",
      "              ]\n",
      "            }\n",
      "          },\n",
      "          {\n",
      "            \"name\": \"deadletter\",\n",
      "            \"partitionKey\": {\n",
      "              \"kind\": \"Hash\",\n",
      "              \"paths\": [\n",
      "                \"/id\"\n",
      "              ]\n",
      "            }\n",
      "          }\n",
      "        ]\n",
      "      },\n",
      "      \"database\": {\n",
      "        \"type\": \"Object\",\n",
      "        \"value\": {\n",
      "          \"name\": \"testdb\"\n",
      "        }\n",
      "      },\n",
      "      \"location\": {\n",
      "        \"type\": \"String\",\n",
      "        \"value\": \"northeurope\"\n",
      "      }\n",
      "    },\n",
      "    \"parametersLink\": null,\n",
      "    \"providers\": [\n",
      "      {\n",
      "        \"id\": null,\n",
      "        \"namespace\": \"Microsoft.Resources\",\n",
      "        \"providerAuthorizationConsentState\": null,\n",
      "        \"registrationPolicy\": null,\n",
      "        \"registrationState\": null,\n",
      "        \"resourceTypes\": [\n",
      "          {\n",
      "            \"aliases\": null,\n",
      "            \"apiProfiles\": null,\n",
      "            \"apiVersions\": null,\n",
      "            \"capabilities\": null,\n",
      "            \"defaultApiVersion\": null,\n",
      "            \"locationMappings\": null,\n",
      "            \"locations\": [\n",
      "              null\n",
      "            ],\n",
      "            \"properties\": null,\n",
      "            \"resourceType\": \"deployments\",\n",
      "            \"zoneMappings\": null\n",
      "          }\n",
      "        ]\n",
      "      }\n",
      "    ],\n",
      "    \"provisioningState\": \"Succeeded\",\n",
      "    \"templateHash\": \"14910820195333052755\",\n",
      "    \"templateLink\": null,\n",
      "    \"timestamp\": \"2024-08-08T13:13:29.060446+00:00\",\n",
      "    \"validatedResources\": null\n",
      "  },\n",
      "  \"resourceGroup\": \"my-cosmosdb-server\",\n",
      "  \"tags\": null,\n",
      "  \"type\": \"Microsoft.Resources/deployments\"\n",
      "}\n"
     ]
    },
    {
     "name": "stderr",
     "output_type": "stream",
     "text": [
      "WARNING: A new Bicep release is available: v0.29.47. Upgrade now by running \"az bicep upgrade\".\n"
     ]
    }
   ],
   "source": [
    "!az deployment group create --resource-group {resource_group} --template-file {template_file}  --parameters {parameters_file} --name {deployment_name} \n"
   ]
  }
 ],
 "metadata": {
  "kernelspec": {
   "display_name": "Python 3",
   "language": "python",
   "name": "python3"
  },
  "language_info": {
   "codemirror_mode": {
    "name": "ipython",
    "version": 3
   },
   "file_extension": ".py",
   "mimetype": "text/x-python",
   "name": "python",
   "nbconvert_exporter": "python",
   "pygments_lexer": "ipython3",
   "version": "3.11.9"
  }
 },
 "nbformat": 4,
 "nbformat_minor": 2
}
