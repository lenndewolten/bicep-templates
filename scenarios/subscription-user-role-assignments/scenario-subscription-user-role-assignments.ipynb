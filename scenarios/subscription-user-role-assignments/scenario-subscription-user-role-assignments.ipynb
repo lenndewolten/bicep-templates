{
 "cells": [
  {
   "cell_type": "markdown",
   "metadata": {},
   "source": [
    "# Subscription User Role assignments SQL server\n",
    "This template deploys role assignments scoped to the subscription\n",
    "\n",
    "## Prerequisites\n",
    "- Azure CLI installed\n",
    "- Bicep CLI installed\n",
    "- Python\n",
    "- Jupyter Notebook or JupyterLab installed\n"
   ]
  },
  {
   "cell_type": "markdown",
   "metadata": {},
   "source": [
    "## Setup Environment\n",
    "1. Make an .env file, configure the settings on your needs: "
   ]
  },
  {
   "cell_type": "code",
   "execution_count": null,
   "metadata": {},
   "outputs": [],
   "source": [
    "%%writefile .env\n",
    "SUBSCRIPTION_ID=<subscription_id>\n",
    "PRINCIPAL_ID=<principal_id>\n",
    "LOCATION=northeurope\n",
    "\n",
    "TEMPLATE_FILE = \"main.bicep\"\n",
    "PARAMETERS_FILE = \"main.bicepparam\""
   ]
  },
  {
   "cell_type": "markdown",
   "metadata": {},
   "source": [
    "2. Install `python-dotenv` if you haven't already. You can install it using pip:"
   ]
  },
  {
   "cell_type": "code",
   "execution_count": null,
   "metadata": {
    "vscode": {
     "languageId": "shellscript"
    }
   },
   "outputs": [],
   "source": [
    "!pip install python-dotenv"
   ]
  },
  {
   "cell_type": "markdown",
   "metadata": {},
   "source": [
    "3. Load the settings in the environments:"
   ]
  },
  {
   "cell_type": "code",
   "execution_count": null,
   "metadata": {},
   "outputs": [],
   "source": [
    "from dotenv import load_dotenv\n",
    "import os\n",
    "\n",
    "load_dotenv()\n",
    "\n",
    "subscription_id = os.getenv('SUBSCRIPTION_ID')\n",
    "principal_id= os.getenv('PRINCIPAL_ID')\n",
    "location = os.getenv('LOCATION')\n",
    "\n",
    "deployment_name = \"roles-assignments\"\n",
    "\n",
    "template_file = os.getenv('TEMPLATE_FILE')\n",
    "parameters_file = os.getenv('PARAMETERS_FILE')\n",
    "\n",
    "print(f\"Subscription ID: {subscription_id}\")\n",
    "print(f\"Principal ID: ###{principal_id}###\")\n",
    "print(f\"Location: {location}\")"
   ]
  },
  {
   "cell_type": "markdown",
   "metadata": {},
   "source": [
    "4. Login to Azure:"
   ]
  },
  {
   "cell_type": "code",
   "execution_count": null,
   "metadata": {},
   "outputs": [],
   "source": [
    "!az login"
   ]
  },
  {
   "cell_type": "markdown",
   "metadata": {},
   "source": [
    "## Deploy template\n",
    "1. Set the bicep parameters, adjust the settings when needed:"
   ]
  },
  {
   "cell_type": "code",
   "execution_count": null,
   "metadata": {},
   "outputs": [],
   "source": [
    "%%writefile {parameters_file}\n",
    "\n",
    "using '#{template_file}#'\n",
    "\n",
    "// ACR\n",
    "var acrPullRole = '7f951dda-4ed3-4680-a7ca-43fe172d538d'\n",
    "var acrPushRole = '8311e382-0749-4cb8-b61a-304f252e45ec'\n",
    "\n",
    "// Storage Account\n",
    "var storageAccountContributorRole = '17d1049b-9a84-46fb-8f53-869881c3d3ab'\n",
    "var blobDataOwnerRole = 'b7e6dc6d-f1e8-4753-8033-0f276bb0955b'\n",
    "var queueDataContributorRole = '974c5e8b-45b9-4653-ba55-5f855dd0fb88'\n",
    "var tableDataContributorRole = '0a9a7e1f-b9d0-4cc4-a60d-0319b160aaa3'\n",
    "var storageFileDataPrivilegedContributor = '69566ab7-960f-475b-8e7c-b3118f30c6bd'\n",
    "\n",
    "param roleAssignments = [\n",
    "  {\n",
    "    roleDefinitionId: acrPullRole\n",
    "    principalId: '#{principal_id}#'\n",
    "    principalType: 'User'\n",
    "  }\n",
    "  {\n",
    "    roleDefinitionId: acrPushRole\n",
    "    principalId: '#{principal_id}#'\n",
    "    principalType: 'User'\n",
    "  }\n",
    "  {\n",
    "    roleDefinitionId: storageAccountContributorRole\n",
    "    principalId: '#{principal_id}#'\n",
    "    principalType: 'User'\n",
    "  }\n",
    "  {\n",
    "    roleDefinitionId: blobDataOwnerRole\n",
    "    principalId: '#{principal_id}#'\n",
    "    principalType: 'User'\n",
    "  }\n",
    "  {\n",
    "    roleDefinitionId: queueDataContributorRole\n",
    "    principalId: '#{principal_id}#'\n",
    "    principalType: 'User'\n",
    "  }\n",
    "  {\n",
    "    roleDefinitionId: tableDataContributorRole\n",
    "    principalId: '#{principal_id}#'\n",
    "    principalType: 'User'\n",
    "  }\n",
    "  {\n",
    "    roleDefinitionId: storageFileDataPrivilegedContributor\n",
    "    principalId: '#{principal_id}#'\n",
    "    principalType: 'User'\n",
    "  }\n",
    "]"
   ]
  },
  {
   "cell_type": "markdown",
   "metadata": {},
   "source": [
    "2. Replace tokens in `.bicepparam` file"
   ]
  },
  {
   "cell_type": "code",
   "execution_count": null,
   "metadata": {},
   "outputs": [],
   "source": [
    "%run \"../../utils/placeholder_replacer.py\"\n",
    "\n",
    "\n",
    "path = f'{parameters_file}'\n",
    "print(path)\n",
    "replace_placeholders_in_file(path)"
   ]
  },
  {
   "cell_type": "markdown",
   "metadata": {},
   "source": [
    "3. Deploy the template:"
   ]
  },
  {
   "cell_type": "code",
   "execution_count": null,
   "metadata": {},
   "outputs": [],
   "source": [
    "!az deployment sub create --location {location} --template-file {template_file}  --parameters {parameters_file} --name {deployment_name}"
   ]
  }
 ],
 "metadata": {
  "kernelspec": {
   "display_name": "Python 3",
   "language": "python",
   "name": "python3"
  },
  "language_info": {
   "codemirror_mode": {
    "name": "ipython",
    "version": 3
   },
   "file_extension": ".py",
   "mimetype": "text/x-python",
   "name": "python",
   "nbconvert_exporter": "python",
   "pygments_lexer": "ipython3",
   "version": "3.11.9"
  }
 },
 "nbformat": 4,
 "nbformat_minor": 2
}
