{
 "cells": [
  {
   "cell_type": "markdown",
   "metadata": {},
   "source": [
    "# Private network - Storage account\n",
    "This template sets up a private storage account with multiple private endpoint connections for table, queue and blob. Please ensure an Azure Private DNS Zone is created before proceeding with the deployment, see [/scenario-private-dns-zones.ipynb](../private-dns-zones/scenario-private-dns-zones.ipynb).\n",
    "\n",
    "## Prerequisites\n",
    "- Azure CLI installed\n",
    "- Bicep CLI installed\n",
    "- Python\n",
    "- Jupyter Notebook or JupyterLab installed\n",
    "- A private DNS zone, see [/scenario-private-dns-zones.ipynb](../scenario-private-dns-zones/private-dns-zones.ipynb)\n"
   ]
  },
  {
   "cell_type": "markdown",
   "metadata": {},
   "source": [
    "## Setup Environment\n",
    "1. Make an .env file, configure the settings on your needs: "
   ]
  },
  {
   "cell_type": "code",
   "execution_count": null,
   "metadata": {},
   "outputs": [],
   "source": [
    "%%writefile .env\n",
    "SUBSCRIPTION_ID=<subscription_id>\n",
    "RESOURCE_GROUP=<resource_group>\n",
    "LOCATION=northeurope\n",
    "TEMPLATE_FILE = \"main.bicep\"\n",
    "PARAMETERS_FILE = \"main.bicepparam\""
   ]
  },
  {
   "cell_type": "markdown",
   "metadata": {},
   "source": [
    "2. Install `python-dotenv` if you haven't already. You can install it using pip:"
   ]
  },
  {
   "cell_type": "code",
   "execution_count": null,
   "metadata": {
    "vscode": {
     "languageId": "shellscript"
    }
   },
   "outputs": [],
   "source": [
    "!pip install python-dotenv"
   ]
  },
  {
   "cell_type": "markdown",
   "metadata": {},
   "source": [
    "3. Load the settings in the environments:"
   ]
  },
  {
   "cell_type": "code",
   "execution_count": null,
   "metadata": {},
   "outputs": [],
   "source": [
    "from dotenv import load_dotenv\n",
    "import os\n",
    "\n",
    "load_dotenv()\n",
    "\n",
    "subscription_id = os.getenv('SUBSCRIPTION_ID')\n",
    "resource_group = os.getenv('RESOURCE_GROUP')\n",
    "location = os.getenv('LOCATION')\n",
    "\n",
    "deployment_name = \"private-storageaccount-deployment\"\n",
    "template_file = os.getenv('TEMPLATE_FILE')\n",
    "parameters_file = os.getenv('PARAMETERS_FILE')\n",
    "\n",
    "print(f\"Subscription ID: {subscription_id}\")\n",
    "print(f\"Resource Group: {resource_group}\")\n",
    "print(f\"Location: {location}\")"
   ]
  },
  {
   "cell_type": "markdown",
   "metadata": {},
   "source": [
    "4. Login and set default Azure subscription"
   ]
  },
  {
   "cell_type": "code",
   "execution_count": null,
   "metadata": {},
   "outputs": [],
   "source": [
    "!az login\n",
    "!az account set --subscription  {subscription_id}"
   ]
  },
  {
   "cell_type": "markdown",
   "metadata": {},
   "source": [
    "5. Create an Azure Resource group:"
   ]
  },
  {
   "cell_type": "code",
   "execution_count": null,
   "metadata": {},
   "outputs": [],
   "source": [
    "!az group create --name {resource_group} --location {location}"
   ]
  },
  {
   "cell_type": "markdown",
   "metadata": {},
   "source": [
    "## Deploy template\n",
    "1. Set the bicep parameters, adjust the settings when needed:"
   ]
  },
  {
   "cell_type": "code",
   "execution_count": null,
   "metadata": {},
   "outputs": [],
   "source": [
    "%%writefile {parameters_file}\n",
    "\n",
    "using '#{template_file}#'\n",
    "\n",
    "param storageAccountName = '${take('prvtstrg${uniqueString(vnetRsourceGroup)}', 15)}'\n",
    "param vnetRsourceGroup = 'my-private-network'\n",
    "param vnetName = 'private-network-test'\n",
    "param subnetName = 'default'"
   ]
  },
  {
   "cell_type": "markdown",
   "metadata": {},
   "source": [
    "2. Replace tokens in `.bicepparam` file"
   ]
  },
  {
   "cell_type": "code",
   "execution_count": null,
   "metadata": {},
   "outputs": [],
   "source": [
    "%run \"../../../utils/placeholder_replacer.py\"\n",
    "\n",
    "path = f'{parameters_file}'\n",
    "replace_placeholders_in_file(path)"
   ]
  },
  {
   "cell_type": "markdown",
   "metadata": {},
   "source": [
    "3. Deploy the template:"
   ]
  },
  {
   "cell_type": "code",
   "execution_count": null,
   "metadata": {},
   "outputs": [],
   "source": [
    "!az deployment group create --resource-group {resource_group} --template-file {template_file}  --parameters {parameters_file} --name {deployment_name} \n"
   ]
  },
  {
   "cell_type": "markdown",
   "metadata": {},
   "source": [
    "4. Optional: Login to the bastion jumpbox and test the connection.\n",
    "\n",
    "    - Login to the VM:\n",
    "![bastion-login.png](../../../images/private-network-docs/bastion-login.png)\n",
    "    - Get Storage account connection string:"
   ]
  },
  {
   "cell_type": "code",
   "execution_count": null,
   "metadata": {},
   "outputs": [],
   "source": [
    "import os\n",
    "import json\n",
    "\n",
    "storage_account_resource_id = os.popen(f\"az deployment group show --resource-group {resource_group} --name {deployment_name} --query \\\"properties.outputs.storageAccountResourceId.value\\\" --output tsv\").read().strip()\n",
    "\n",
    "print(f\"Storage Account Id: {storage_account_resource_id}\")\n",
    "\n",
    "connection_string = json.loads(os.popen(f\"az storage account show-connection-string --ids {storage_account_resource_id} --resource-group {resource_group}\").read().strip())['connectionString']\n",
    "\n",
    "print(f\"Connection string: {connection_string}\")"
   ]
  },
  {
   "cell_type": "markdown",
   "metadata": {},
   "source": [
    "    - Connect in the VM with the Azure Storage Explorer to the storage account \n",
    "![connect-to-storage-account.png](../../../images/private-network-docs/connect-to-storage-account.png)\n",
    "    \n",
    "    - Explore! \n",
    "![storage-account-object-explorer.png](../../../images/private-network-docs/storage-account-object-explorer.png)"
   ]
  }
 ],
 "metadata": {
  "kernelspec": {
   "display_name": "Python 3",
   "language": "python",
   "name": "python3"
  },
  "language_info": {
   "codemirror_mode": {
    "name": "ipython",
    "version": 3
   },
   "file_extension": ".py",
   "mimetype": "text/x-python",
   "name": "python",
   "nbconvert_exporter": "python",
   "pygments_lexer": "ipython3",
   "version": "3.11.9"
  }
 },
 "nbformat": 4,
 "nbformat_minor": 2
}
