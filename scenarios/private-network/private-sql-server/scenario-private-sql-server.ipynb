{
 "cells": [
  {
   "cell_type": "markdown",
   "metadata": {},
   "source": [
    "# Private network - SQL server\n",
    "This template sets up a private SQL Server with a private endpoint connection. Please ensure an Azure Private DNS Zone is created before proceeding with the deployment, see [/scenario-private-dns-zones.ipynb](../private-dns-zones/scenario-private-dns-zones.ipynb).\n",
    "\n",
    "## Prerequisites\n",
    "- Azure CLI installed\n",
    "- Bicep CLI installed\n",
    "- Python\n",
    "- Jupyter Notebook or JupyterLab installed\n",
    "- A private DNS zone, see [/scenario-private-dns-zones.ipynb](../scenario-private-dns-zones/private-dns-zones.ipynb)\n"
   ]
  },
  {
   "cell_type": "markdown",
   "metadata": {},
   "source": [
    "## Setup Environment\n",
    "1. Make an .env file, configure the settings on your needs: "
   ]
  },
  {
   "cell_type": "code",
   "execution_count": null,
   "metadata": {},
   "outputs": [],
   "source": [
    "%%writefile .env\n",
    "SUBSCRIPTION_ID=<subscription_id>\n",
    "RESOURCE_GROUP=<resource_group>\n",
    "LOCATION=northeurope"
   ]
  },
  {
   "cell_type": "markdown",
   "metadata": {},
   "source": [
    "2. Install `python-dotenv` if you haven't already. You can install it using pip:"
   ]
  },
  {
   "cell_type": "code",
   "execution_count": null,
   "metadata": {
    "vscode": {
     "languageId": "shellscript"
    }
   },
   "outputs": [],
   "source": [
    "!pip install python-dotenv"
   ]
  },
  {
   "cell_type": "markdown",
   "metadata": {},
   "source": [
    "3. Load the settings in the environments:"
   ]
  },
  {
   "cell_type": "code",
   "execution_count": null,
   "metadata": {},
   "outputs": [],
   "source": [
    "from dotenv import load_dotenv\n",
    "import os\n",
    "\n",
    "load_dotenv()\n",
    "\n",
    "subscription_id = os.getenv('SUBSCRIPTION_ID')\n",
    "resource_group = os.getenv('RESOURCE_GROUP')\n",
    "location = os.getenv('LOCATION')\n",
    "\n",
    "deployment_name = \"private-sql-deployment\"\n",
    "template_file = \"main.bicep\"\n",
    "parameters_file = \"main.bicepparam\"\n",
    "\n",
    "print(f\"Subscription ID: {subscription_id}\")\n",
    "print(f\"Resource Group: {resource_group}\")\n",
    "print(f\"Location: {location}\")"
   ]
  },
  {
   "cell_type": "markdown",
   "metadata": {},
   "source": [
    "4. Create an Azure Resource group:"
   ]
  },
  {
   "cell_type": "code",
   "execution_count": null,
   "metadata": {},
   "outputs": [],
   "source": [
    "!az login\n",
    "!az account set --subscription  {subscription_id}\n",
    "!az group create --name {resource_group} --location {location}"
   ]
  },
  {
   "cell_type": "markdown",
   "metadata": {},
   "source": [
    "## Deploy template\n",
    "1. Set the bicep parameters, adjust the settings when needed:"
   ]
  },
  {
   "cell_type": "code",
   "execution_count": null,
   "metadata": {},
   "outputs": [],
   "source": [
    "%%writefile {parameters_file}\n",
    "\n",
    "using 'main.bicep'\n",
    "\n",
    "param sqlServerName = '${take('prvtsql${uniqueString(vnetRsourceGroup)}', 15)}'\n",
    "param sqlAdministratorLogin = 'testsqladmin' // This is a placeholder value and should be tokenized with a secure value\n",
    "param sqlAdministratorLoginPassword = 'Th3B3stPa$$word!' // This is a placeholder value and should be tokenized with a secure value\n",
    "\n",
    "param databases = [\n",
    "  {\n",
    "    name: 'testlennartdb'\n",
    "    sku: {\n",
    "      name: 'Basic'\n",
    "      tier: 'Basic'\n",
    "      capacity: 5\n",
    "    }\n",
    "    collation: 'SQL_Latin1_General_CP1_CI_AS'\n",
    "    maxSizeBytes: 104857600\n",
    "    sampleName: 'AdventureWorksLT'\n",
    "  }\n",
    "]\n",
    "\n",
    "param vnetRsourceGroup = 'my-private-network'\n",
    "param vnetName = 'private-network-test'\n",
    "param subnetName = 'default'\n"
   ]
  },
  {
   "cell_type": "markdown",
   "metadata": {},
   "source": [
    "2. Deploy the template:"
   ]
  },
  {
   "cell_type": "code",
   "execution_count": null,
   "metadata": {},
   "outputs": [],
   "source": [
    "!az deployment group create --resource-group {resource_group} --template-file {template_file}  --parameters {parameters_file} --name {deployment_name} \n"
   ]
  },
  {
   "cell_type": "markdown",
   "metadata": {},
   "source": [
    "3. Optional: Login to the bastion jumpbox and test the connection.\n",
    "\n",
    "    - Login to the VM:\n",
    "![bastion-login.png](../../../images/private-network-docs/bastion-login.png)\n",
    "    - Get the SQL server name:"
   ]
  },
  {
   "cell_type": "code",
   "execution_count": null,
   "metadata": {},
   "outputs": [],
   "source": [
    "import os\n",
    "\n",
    "sql_server_fqdn = os.popen(f\"az deployment group show --resource-group {resource_group} --name {deployment_name} --query \\\"properties.outputs.sqlServerFqdn.value\\\" --output tsv\").read().strip()\n",
    "\n",
    "print(f\"SQL server name: {sql_server_fqdn}\")"
   ]
  },
  {
   "cell_type": "markdown",
   "metadata": {},
   "source": [
    "    - Connect in the VM with the SQL Server Management Studio (SSMS) to the server\n",
    "![sql-server-login.png](../../../images/private-network-docs/sql-server-login.png)\n",
    "    \n",
    "    - Explore! \n",
    "![sql-server-object-explorer.png](../../../images/private-network-docs/sql-server-object-explorer.png)"
   ]
  }
 ],
 "metadata": {
  "kernelspec": {
   "display_name": "Python 3",
   "language": "python",
   "name": "python3"
  },
  "language_info": {
   "codemirror_mode": {
    "name": "ipython",
    "version": 3
   },
   "file_extension": ".py",
   "mimetype": "text/x-python",
   "name": "python",
   "nbconvert_exporter": "python",
   "pygments_lexer": "ipython3",
   "version": "3.11.9"
  }
 },
 "nbformat": 4,
 "nbformat_minor": 2
}
